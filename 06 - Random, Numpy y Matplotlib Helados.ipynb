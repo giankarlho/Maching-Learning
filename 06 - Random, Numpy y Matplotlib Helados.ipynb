{
 "cells": [
  {
   "cell_type": "markdown",
   "metadata": {},
   "source": [
    "# Simulación de ventas un carrito de helados\n",
    "\n",
    "El dataframe tendrá valores del verano de 2019, del 2019-07-01 al 2019-08-30, se venden helados de tres sabores, que pueden variar su precio cada lunes de acuerdo a las condiciones de temperatura, los consumidores consumen más o menos helado de acuerdo con la variación de la temperatura base (25°) y el precio \"base\" ($50 por bola), simularemos la elasticidad de la demanda. Todas las bolas de helado cuestan igual.\n",
    "\n",
    "El dataframe contiene los siguientes datos:\n",
    "\n",
    "|campo              |significado y notas                                                |\n",
    "|-------------------|-------------------------------------------------------------------|\n",
    "|fecha              |Fecha de venta                                                     |\n",
    "|localidad          |En que localidad se realizó la venta (alameda, escuela, playa)     |\n",
    "|fresa              |Número de bolas de fresa que se vendieron                          |\n",
    "|vainilla           |                                                                   |\n",
    "|chocolate          |                                                                   |\n",
    "|temperatura        |Temperatura del día (25°C como base)                               |\n",
    "|publicidad         |Costo de la publicidad, de lunes a sábado volanteo, lunes en radio |\n",
    "|precio             |Precio de la bola, se modifica los lunes con base en la temperatura|\n"
   ]
  },
  {
   "cell_type": "code",
   "execution_count": null,
   "metadata": {},
   "outputs": [],
   "source": [
    "import pandas as pd\n",
    "import random\n",
    "\n",
    "random.seed(1234)"
   ]
  },
  {
   "cell_type": "markdown",
   "metadata": {},
   "source": [
    "## Parámetros base\n",
    "\n",
    "Las variables se modificarán de forma aleatoria conforme a estos parámetros que se definen aquí"
   ]
  },
  {
   "cell_type": "code",
   "execution_count": null,
   "metadata": {},
   "outputs": [],
   "source": [
    "precio_base      = 50\n",
    "temperatura_base = 25\n",
    "precio           = 50\n",
    "temperatura      = 25"
   ]
  },
  {
   "cell_type": "markdown",
   "metadata": {},
   "source": [
    "## Localidades\n",
    "\n",
    "El carrito de helados de lunes a jueves [0..3] únicamente se puede poner en la alameda, o afuera de la escuela, los viernes puede ser en la alameda, la escuela o la playa, los sábados solo en la alameda o la playa, y los domingos únicamente en la playa\n",
    "\n",
    "Cada localidad tiene un cierto premium mínimo y máximo, el cual implica un riesgo. Las ventas en la zona de oficinas (la alameda) son más estables que en la playa, donde en un día soleado se puede vender hasta 30% más, pero si el día es malo, y nadie va a la playa, se puede vender 30% menos."
   ]
  },
  {
   "cell_type": "code",
   "execution_count": null,
   "metadata": {},
   "outputs": [],
   "source": [
    "localidad = {\n",
    "    0: [\"alameda\", \"escuela\"],\n",
    "    1: [\"alameda\", \"escuela\"],\n",
    "    2: [\"alameda\", \"escuela\"],\n",
    "    3: [\"alameda\", \"escuela\"],\n",
    "    4: [\"alameda\", \"escuela\", \"playa\"],\n",
    "    5: [\"alameda\", \"playa\"],\n",
    "    6: [\"playa\"],    \n",
    "}\n",
    "\n",
    "premium = {\n",
    "    \"alameda\": {'min': 0.95, 'max': 1.05},\n",
    "    \"escuela\": {'min': 0.95, 'max': 1.12},\n",
    "    \"playa\"  : {'min': 0.70, 'max': 1.30},\n",
    "}"
   ]
  },
  {
   "cell_type": "markdown",
   "metadata": {},
   "source": [
    "## Helado\n",
    "\n",
    "* Se establece una venta promedio de 100 helados por cada sabor (fresa, vainilla y chocolate)\n",
    "* Se define una función que hace que el consumo varie de acuerdo a la temperatura, a menor temperatura, menor consumo y a mayor temperatura, mayor consumo\n",
    "* Se añade un poco de ruido a la función, a través de números aleatorios, indicando la variabilidad en las preferencias que tienen los consumidores por cada sabor"
   ]
  },
  {
   "cell_type": "code",
   "execution_count": null,
   "metadata": {},
   "outputs": [],
   "source": [
    "# Función de variación de acuerdo a la temperatura\n",
    "#\n",
    "def venta(temp):\n",
    "    return (((temp - temperatura_base)/(temp*1.2)) ** 3) * 40\n",
    "\n",
    "# Variabilidad en las preferencias de los clientes (porcentual)\n",
    "#\n",
    "sabores = {\n",
    "    'fresa'     : 0.10,\n",
    "    'vainilla'  : 0.02,\n",
    "    'chocolate' : 0.06,\n",
    "}"
   ]
  },
  {
   "cell_type": "markdown",
   "metadata": {},
   "source": [
    "### Visualización de la función de preferencias"
   ]
  },
  {
   "cell_type": "code",
   "execution_count": null,
   "metadata": {},
   "outputs": [],
   "source": [
    "import matplotlib\n",
    "import matplotlib.pyplot as plt\n",
    "import numpy as np\n",
    "\n",
    "%matplotlib inline"
   ]
  },
  {
   "cell_type": "code",
   "execution_count": null,
   "metadata": {},
   "outputs": [],
   "source": [
    "t = np.arange(20, 40, 1)\n",
    "t"
   ]
  },
  {
   "cell_type": "code",
   "execution_count": null,
   "metadata": {},
   "outputs": [],
   "source": [
    "f = venta(t)\n",
    "f"
   ]
  },
  {
   "cell_type": "code",
   "execution_count": null,
   "metadata": {},
   "outputs": [],
   "source": [
    "plt.figure(figsize=(12,8))\n",
    "plt.xlabel('Temperatura')\n",
    "plt.ylabel('Variación')\n",
    "plt.title('Variación de venta como % contra la temperatura')\n",
    "plt.grid(True)\n",
    "plt.plot(t, f)\n",
    "\n",
    "'''plt.annotate('Punto de Equilibrio', xy=(25,0), xytext=(23, 0.3),\n",
    "             arrowprops=dict(fc='red', shrink=0.03, width=7,\n",
    "                            headwidth=15, ec='red', connectionstyle=\"arc3, rad=-0.2\")\n",
    "            )'''"
   ]
  },
  {
   "cell_type": "markdown",
   "metadata": {},
   "source": [
    "## Variación diaria de la temperatura\n",
    "\n",
    "* La temperatura variará diariamente, pudiendo subir o bajar 2°C, hasta un mínimo de 22°C y un máximo de 39°C\n",
    "* El precio del helado cambia de acuerdo a la temperatura prevista para el día del ajuste, hasta un 3% contra el precio base por cada grado de diferencia. El día más caliente, 40°C, el helado podría costar hasta 45% más\n",
    "* El precio cambia todos los lunes"
   ]
  },
  {
   "cell_type": "code",
   "execution_count": null,
   "metadata": {},
   "outputs": [],
   "source": [
    "def varprecio(t):\n",
    "    p = precio_base * (1 + ((t - temperatura_base) * (random.uniform(0, 0.03))) )\n",
    "    return p"
   ]
  },
  {
   "cell_type": "code",
   "execution_count": null,
   "metadata": {},
   "outputs": [],
   "source": [
    "# Ejemplos de la variación del precio de acuerdo a la temperatura, con la variación máxima 3%\n",
    "\n",
    "precio      = 50\n",
    "temperatura = 40 # precio máximo\n",
    "\n",
    "# Incremento máximo para la temperatura de 40°C\n",
    "precio = precio * (1 + ((temperatura - temperatura_base) * (0.03)) )\n",
    "print('El precio para este día será {0:0.2f}, una variación de {1:0.2f}% contra el precio base'.format(precio, \n",
    "                                                                                                    (precio / precio_base - 1)*100))"
   ]
  },
  {
   "cell_type": "code",
   "execution_count": null,
   "metadata": {},
   "outputs": [],
   "source": [
    "# Ejemplo de variación con un número aleatorio\n",
    "#\n",
    "precio      = 50\n",
    "\n",
    "# Incremento aleatorio de 3% máximo por cada grado de variación\n",
    "precio = varprecio(temperatura)\n",
    "print('El precio para este día será {0:0.2f}, una variación de {1:0.2f}% contra el precio base'.format(precio, \n",
    "                                                                                                    (precio / precio_base - 1)*100))"
   ]
  },
  {
   "cell_type": "code",
   "execution_count": null,
   "metadata": {},
   "outputs": [],
   "source": [
    "# Variación de la temperatura día por día\n",
    "temperatura      = 25\n",
    "\n",
    "def vartemp(t):\n",
    "    if random.randint(1,100) < 55:\n",
    "        t -= 1\n",
    "    else:\n",
    "        t += 1\n",
    "    \n",
    "    \n",
    "    t += random.randint(-1,1)\n",
    "    \n",
    "    if t < 22:\n",
    "        t = 22\n",
    "\n",
    "    if t > 40:\n",
    "        t = 40\n",
    "        \n",
    "    return t\n",
    "    \n",
    "temperatura = vartemp(temperatura)\n",
    "temperatura"
   ]
  },
  {
   "cell_type": "markdown",
   "metadata": {},
   "source": [
    "### Gráfica de variación de la temperatura\n",
    "\n",
    "Graficamos un intervalo de 90 días con sus cambios diarios de temperatura"
   ]
  },
  {
   "cell_type": "code",
   "execution_count": null,
   "metadata": {},
   "outputs": [],
   "source": [
    "random.seed(123)\n",
    "\n",
    "temperatura = 25\n",
    "dias        = np.arange(0, 90, 1)\n",
    "temps       = np.empty(0)\n",
    "\n",
    "for i in range(0,90):\n",
    "    temperatura = vartemp(temperatura)\n",
    "    temps = np.append(temps, temperatura)"
   ]
  },
  {
   "cell_type": "code",
   "execution_count": null,
   "metadata": {},
   "outputs": [],
   "source": [
    "temps"
   ]
  },
  {
   "cell_type": "code",
   "execution_count": null,
   "metadata": {},
   "outputs": [],
   "source": [
    "plt.figure(figsize=(12, 8))\n",
    "plt.plot(dias, temps)\n",
    "plt.xlabel(\"Días\")\n",
    "plt.ylabel(\"Temperatura °C\")\n",
    "plt.title(\"Temperatura Diaria\")"
   ]
  },
  {
   "cell_type": "markdown",
   "metadata": {},
   "source": [
    "### Comportamiento de la venta\n",
    "\n",
    "* La venta depende de la temperatura, siendo la base 25°C, para vender 100 helados\n",
    "* Si la temperatura sube, el número de helados vendidos sube\n",
    "* Se muestra la gráfica determinista y una gráfica con \"ruido\", que es la variación en la preferencia del consumidor para un día determinado\n",
    "\n",
    "**Discusión** \n",
    "\n",
    "¿Cómo podríamos simular el comportamiento del consumidor con relación al precio?"
   ]
  },
  {
   "cell_type": "code",
   "execution_count": null,
   "metadata": {},
   "outputs": [],
   "source": [
    "ventas  = np.empty(0)\n",
    "ventasc = np.empty(0)\n",
    "ventasf = np.empty(0)\n",
    "ventasv = np.empty(0)\n",
    "dias    = np.arange(0,90,1)\n",
    "\n",
    "for i in range(0,90):\n",
    "    v = round(100 * (1 + venta(temps[i])))\n",
    "    ventas = np.append(ventas, v)\n",
    "    ventasc = np.append(ventasc, v * \n",
    "                        random.uniform(1-sabores['chocolate'], 1+sabores['chocolate']))\n",
    "    ventasf = np.append(ventasf, v * \n",
    "                        random.uniform(1-sabores['fresa'], 1+sabores['fresa']))\n",
    "    ventasv = np.append(ventasv, v * \n",
    "                        random.uniform(1-sabores['vainilla'], 1+sabores['vainilla']))\n",
    "    \n",
    "\n",
    "plt.figure(figsize=(12,8))\n",
    "\n",
    "plt.subplot(111)\n",
    "plt.plot(dias, temps)\n",
    "plt.title('Temperaturas por día')\n",
    "plt.xlabel('Días')\n",
    "plt.ylabel('Temperatura °C')\n",
    "\n",
    "plt.figure(figsize=(12,8))\n",
    "plt.subplot(111)\n",
    "#plt.plot(dias,ventas,c='k',ls='-')\n",
    "plt.plot(dias,ventasc,c='#00dd00',ls='--')\n",
    "plt.plot(dias,ventasf,c='#dd0000',ls='--')\n",
    "#plt.plot(dias,ventasv,c='#ffaa00',ls='--')\n",
    "plt.title('Ventas por día')\n",
    "plt.xlabel('Días')\n",
    "plt.ylabel('Número de helados vendidos')\n"
   ]
  },
  {
   "cell_type": "markdown",
   "metadata": {},
   "source": [
    "## Selección de dónde ocurrió la venta\n",
    "\n",
    "Seleccionamos un lugar donde ocurrió la venta, que depende del día de la semana en el que estemos, por ejemplo, los miércoles (día 2) podemos vender en..."
   ]
  },
  {
   "cell_type": "code",
   "execution_count": null,
   "metadata": {},
   "outputs": [],
   "source": [
    "localidad[2]"
   ]
  },
  {
   "cell_type": "code",
   "execution_count": null,
   "metadata": {},
   "outputs": [],
   "source": [
    "random.choice(localidad[2])"
   ]
  },
  {
   "cell_type": "markdown",
   "metadata": {},
   "source": [
    "## Cuántos helados se venden por lugar\n",
    "\n",
    "* Calculamos que tanto afecta la venta, el que se venda en un lugar u otro\n",
    "* El multiplicador afecta a la venta de todos los sabores por igual"
   ]
  },
  {
   "cell_type": "code",
   "execution_count": null,
   "metadata": {},
   "outputs": [],
   "source": [
    "premium"
   ]
  },
  {
   "cell_type": "code",
   "execution_count": null,
   "metadata": {},
   "outputs": [],
   "source": [
    "donde = 'playa'\n",
    "\n",
    "mult = random.uniform(premium[donde]['min'], premium[donde]['max'])\n",
    "print(\"multiplicador {0:0.4f}\".format(mult) )"
   ]
  },
  {
   "cell_type": "code",
   "execution_count": null,
   "metadata": {},
   "outputs": [],
   "source": [
    "def multiplicador(lugar):\n",
    "    return random.uniform(premium[lugar]['min'], premium[lugar]['max'])"
   ]
  },
  {
   "cell_type": "markdown",
   "metadata": {},
   "source": [
    "## Iteración (crear registros)\n"
   ]
  },
  {
   "cell_type": "code",
   "execution_count": null,
   "metadata": {},
   "outputs": [],
   "source": [
    "df = pd.DataFrame(columns=['fecha', 'localidad', 'sabor', 'cant'\n",
    "                           'temperatura', 'publicidad', 'precio'])\n",
    "df"
   ]
  },
  {
   "cell_type": "code",
   "execution_count": null,
   "metadata": {},
   "outputs": [],
   "source": [
    "precio           = 50\n",
    "temperatura      = 25"
   ]
  },
  {
   "cell_type": "code",
   "execution_count": null,
   "metadata": {},
   "outputs": [],
   "source": [
    "sabores"
   ]
  },
  {
   "cell_type": "code",
   "execution_count": null,
   "metadata": {
    "scrolled": true
   },
   "outputs": [],
   "source": [
    "from datetime import date, timedelta\n",
    "\n",
    "fini  = date(2019, 6, 1)\n",
    "ffin  = date(2019, 8, 30)\n",
    "delta = timedelta(days=1)\n",
    "\n",
    "df = pd.DataFrame(columns=['fecha', 'localidad', 'sabor', 'cant',\n",
    "                           'temperatura', 'precio'])\n",
    "while fini <= ffin:\n",
    "    temperatura = vartemp(temperatura)\n",
    "        \n",
    "    # Actualizamos los precios si el día de la semana es 0 (lunes)\n",
    "    if fini.weekday() == 0:\n",
    "        precio = varprecio(temperatura)\n",
    "        \n",
    "    # En dónde se venden los helados\n",
    "    donde = random.choice(localidad[fini.weekday()])\n",
    "    \n",
    "    # Calculamos la venta de helado de cada sabor\n",
    "    #\n",
    "    helado = {}\n",
    "\n",
    "    for sabor in sabores:\n",
    "        variabilidad = random.uniform(1-sabores[sabor], 1+sabores[sabor])\n",
    "        cant = round(100 * (1 + venta(temperatura)) * variabilidad)\n",
    "        helado[sabor] = cant\n",
    "        df = df.append({'fecha': fini, 'temperatura': temperatura, 'precio': precio, \n",
    "                'localidad': donde, 'sabor': sabor, 'cant': cant}, ignore_index=True)\n",
    "        \n",
    "        print (\"{0} {1}°C {2:0.2f} {3:7} {4:10} cant:{5:3}\".format(fini.strftime(\"%Y-%m-%d\"), \n",
    "                                               temperatura, precio,\n",
    "                                               donde, sabor, cant))\n",
    "    \n",
    "    fini += delta"
   ]
  },
  {
   "cell_type": "code",
   "execution_count": null,
   "metadata": {},
   "outputs": [],
   "source": [
    "df.head(5)"
   ]
  },
  {
   "cell_type": "code",
   "execution_count": null,
   "metadata": {},
   "outputs": [],
   "source": [
    "df.to_excel('helados.xlsx', index=False, encoding='utf-8')"
   ]
  },
  {
   "cell_type": "code",
   "execution_count": null,
   "metadata": {},
   "outputs": [],
   "source": []
  }
 ],
 "metadata": {
  "kernelspec": {
   "display_name": "Python 3",
   "language": "python",
   "name": "python3"
  },
  "language_info": {
   "codemirror_mode": {
    "name": "ipython",
    "version": 3
   },
   "file_extension": ".py",
   "mimetype": "text/x-python",
   "name": "python",
   "nbconvert_exporter": "python",
   "pygments_lexer": "ipython3",
   "version": "3.7.3"
  }
 },
 "nbformat": 4,
 "nbformat_minor": 2
}
