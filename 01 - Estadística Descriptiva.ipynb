{
 "cells": [
  {
   "cell_type": "markdown",
   "metadata": {},
   "source": [
    "<h2>Variables de Tendencia Central</h2>\n",
    "\n",
    "Prof. Giancarlo Valencia Sotomayor"
   ]
  },
  {
   "cell_type": "markdown",
   "metadata": {},
   "source": [
    "Calcula de la mediana, meda y moda aritmética"
   ]
  },
  {
   "cell_type": "code",
   "execution_count": 1,
   "metadata": {},
   "outputs": [
    {
     "name": "stdout",
     "output_type": "stream",
     "text": [
      "Datos a tratar: \n",
      "[1, 4, 6, 7, 2, 3, 4, 7, 1, 2, 4, 3, 4, 5, 6, 5, 2, 3, 1, 2, 5, 6, 7, 3, 4, 1, 5, 7, 1, 7, 6, 5, 3, 4, 3, 4, 5, 5, 5, 6, 7, 3, 4, 5, 3, 4, 5, 4, 5, 6, 3, 4, 3, 4, 5, 3, 4, 5, 3, 4, 5, 3, 4, 5, 3, 4, 5, 3, 1, 3, 4, 5, 3, 4, 5, 6, 5, 4, 6, 5, 6, 5, 1, 7]\n"
     ]
    }
   ],
   "source": [
    "print(\"Datos a tratar: \")\n",
    "data=[1,4,6,7,2,3,4,7,1,2,4,3,4,5,\n",
    "      6,5,2,3,1,2,5,6,7,3,4,1,5,7,\n",
    "      1,7,6,5,3,4,3,4,5,5,5,6,7,3,\n",
    "      4,5,3,4,5,4,5,6,3,4,3,4,5,3,\n",
    "      4,5,3,4,5,3,4,5,3,4,5,3,1,3,\n",
    "      4,5,3,4,5,6,5,4,6,5,6,5,1,7]\n",
    "print(data)"
   ]
  },
  {
   "cell_type": "code",
   "execution_count": 4,
   "metadata": {},
   "outputs": [
    {
     "name": "stdout",
     "output_type": "stream",
     "text": [
      "84\n"
     ]
    }
   ],
   "source": [
    "# Ordenando la data de menor a mayor\n",
    "dOrder=sorted(data)\n",
    "\n",
    "n=len(dOrder)\n",
    "middle=n//2\n",
    "# Cantida de elementos en data[]\n",
    "print(n)"
   ]
  },
  {
   "cell_type": "code",
   "execution_count": 5,
   "metadata": {},
   "outputs": [
    {
     "name": "stdout",
     "output_type": "stream",
     "text": [
      "\n",
      "Total datos 84\n",
      "Mediana:  4.0\n"
     ]
    }
   ],
   "source": [
    "# codigo para calcular la mediana\n",
    "if n%2==0:\n",
    "\tmediana=(dOrder[middle+1] + dOrder[middle+2]) / 2\n",
    "else:\n",
    "\tmediana=dOrder[middle+1]\n",
    "\n",
    "print ('')\n",
    "print (\"Total datos\",n)\n",
    "print (\"Mediana: \", mediana)"
   ]
  },
  {
   "cell_type": "code",
   "execution_count": 6,
   "metadata": {},
   "outputs": [
    {
     "name": "stdout",
     "output_type": "stream",
     "text": [
      "Mediana Aritmetica:  4.17\n"
     ]
    }
   ],
   "source": [
    "# codigo para calcular la media aritmetica\n",
    "print ('Mediana Aritmetica: ', round(sum(data)*1.0/n,2))"
   ]
  },
  {
   "cell_type": "code",
   "execution_count": 7,
   "metadata": {},
   "outputs": [
    {
     "name": "stdout",
     "output_type": "stream",
     "text": [
      "moda: [5]\n"
     ]
    }
   ],
   "source": [
    "# codigo para calcular la moda\n",
    "repetir = 0                                                                         \n",
    "for i in data:                                                                              \n",
    "    aparece = data.count(i)                                                             \n",
    "    if aparece > repetir:                                                       \n",
    "        repetir = aparece                                                       \n",
    "                                                                                         \n",
    "moda = []                                                                               \n",
    "for i in data:                                                                              \n",
    "    aparece = data.count(i)                                                             \n",
    "    if aparece == repetir and i not in moda:                                   \n",
    "        moda.append(i)                                                                  \n",
    "                                                                                         \n",
    "print (\"moda:\", moda)"
   ]
  },
  {
   "cell_type": "markdown",
   "metadata": {},
   "source": [
    "## Utilizando la librería Statistics"
   ]
  },
  {
   "cell_type": "code",
   "execution_count": 8,
   "metadata": {},
   "outputs": [],
   "source": [
    "import statistics as st"
   ]
  },
  {
   "cell_type": "code",
   "execution_count": 9,
   "metadata": {},
   "outputs": [],
   "source": [
    "sueldo = [4000,2500,1000,5000,7000,1234,4000,250,25000,3500,23456]"
   ]
  },
  {
   "cell_type": "code",
   "execution_count": 10,
   "metadata": {},
   "outputs": [
    {
     "name": "stdout",
     "output_type": "stream",
     "text": [
      "La media es: 6994.545454545455\n",
      "La mediana es: 4000\n",
      "La moda es: 4000\n"
     ]
    }
   ],
   "source": [
    "print('La media es: ' + str(st.mean(sueldo)))\n",
    "print('La mediana es: ' + str(st.median(sueldo)))\n",
    "print('La moda es: ' + str(st.mode(sueldo)))"
   ]
  },
  {
   "cell_type": "markdown",
   "metadata": {},
   "source": [
    "## Utilizando Pandas"
   ]
  },
  {
   "cell_type": "code",
   "execution_count": 12,
   "metadata": {},
   "outputs": [],
   "source": [
    "# Importamos de la librería pandas para el manejo de dataframes\n",
    "import pandas as pd"
   ]
  },
  {
   "cell_type": "code",
   "execution_count": 13,
   "metadata": {},
   "outputs": [],
   "source": [
    "# Importamos nuestro archivo CSV\n",
    "df = pd.read_csv('Participantes.csv')"
   ]
  },
  {
   "cell_type": "code",
   "execution_count": 14,
   "metadata": {},
   "outputs": [
    {
     "data": {
      "text/html": [
       "<div>\n",
       "<style scoped>\n",
       "    .dataframe tbody tr th:only-of-type {\n",
       "        vertical-align: middle;\n",
       "    }\n",
       "\n",
       "    .dataframe tbody tr th {\n",
       "        vertical-align: top;\n",
       "    }\n",
       "\n",
       "    .dataframe thead th {\n",
       "        text-align: right;\n",
       "    }\n",
       "</style>\n",
       "<table border=\"1\" class=\"dataframe\">\n",
       "  <thead>\n",
       "    <tr style=\"text-align: right;\">\n",
       "      <th></th>\n",
       "      <th>¿En qué País vives?</th>\n",
       "      <th>Provincia</th>\n",
       "      <th>Experiencia en Data Science</th>\n",
       "      <th>Años de educación</th>\n",
       "      <th>¿Trabajas actualmente?</th>\n",
       "      <th>¿Cuál es tu salario anual?</th>\n",
       "      <th>¿Cuál es tu interés personal?</th>\n",
       "      <th>¿Cuál es tu sexo?</th>\n",
       "    </tr>\n",
       "  </thead>\n",
       "  <tbody>\n",
       "    <tr>\n",
       "      <th>0</th>\n",
       "      <td>Perú</td>\n",
       "      <td>Cañete</td>\n",
       "      <td>Básica</td>\n",
       "      <td>5.0</td>\n",
       "      <td>Desempleado</td>\n",
       "      <td>1200</td>\n",
       "      <td>Ganar más dinero y trabajar menos.</td>\n",
       "      <td>Masculino</td>\n",
       "    </tr>\n",
       "    <tr>\n",
       "      <th>1</th>\n",
       "      <td>Perú</td>\n",
       "      <td>San Vicente</td>\n",
       "      <td>Básica</td>\n",
       "      <td>2.0</td>\n",
       "      <td>Desempleado</td>\n",
       "      <td>1200</td>\n",
       "      <td>software</td>\n",
       "      <td>Masculino</td>\n",
       "    </tr>\n",
       "    <tr>\n",
       "      <th>2</th>\n",
       "      <td>Perú</td>\n",
       "      <td>San Vicente</td>\n",
       "      <td>Intermedia</td>\n",
       "      <td>15.0</td>\n",
       "      <td>Independiente</td>\n",
       "      <td>150</td>\n",
       "      <td>ver peliculas</td>\n",
       "      <td>Femenino</td>\n",
       "    </tr>\n",
       "    <tr>\n",
       "      <th>3</th>\n",
       "      <td>Perú</td>\n",
       "      <td>San Vicente</td>\n",
       "      <td>Experta</td>\n",
       "      <td>15.0</td>\n",
       "      <td>Tiempo completo</td>\n",
       "      <td>2300</td>\n",
       "      <td>comer</td>\n",
       "      <td>Masculino</td>\n",
       "    </tr>\n",
       "    <tr>\n",
       "      <th>4</th>\n",
       "      <td>Perú</td>\n",
       "      <td>San Vicente - 28 de Julio</td>\n",
       "      <td>Experta</td>\n",
       "      <td>2.0</td>\n",
       "      <td>Tiempo completo</td>\n",
       "      <td>2300</td>\n",
       "      <td>Apasionado en la tecnologia</td>\n",
       "      <td>Masculino</td>\n",
       "    </tr>\n",
       "  </tbody>\n",
       "</table>\n",
       "</div>"
      ],
      "text/plain": [
       "  ¿En qué País vives?                  Provincia Experiencia en Data Science  \\\n",
       "0                Perú                     Cañete                      Básica   \n",
       "1                Perú                San Vicente                      Básica   \n",
       "2                Perú                San Vicente                  Intermedia   \n",
       "3                Perú                San Vicente                     Experta   \n",
       "4                Perú  San Vicente - 28 de Julio                     Experta   \n",
       "\n",
       "   Años de educación ¿Trabajas actualmente?  ¿Cuál es tu salario anual?  \\\n",
       "0                5.0            Desempleado                        1200   \n",
       "1                2.0            Desempleado                        1200   \n",
       "2               15.0          Independiente                         150   \n",
       "3               15.0        Tiempo completo                        2300   \n",
       "4                2.0        Tiempo completo                        2300   \n",
       "\n",
       "        ¿Cuál es tu interés personal? ¿Cuál es tu sexo?  \n",
       "0  Ganar más dinero y trabajar menos.         Masculino  \n",
       "1                            software         Masculino  \n",
       "2                       ver peliculas          Femenino  \n",
       "3                               comer         Masculino  \n",
       "4         Apasionado en la tecnologia         Masculino  "
      ]
     },
     "execution_count": 14,
     "metadata": {},
     "output_type": "execute_result"
    }
   ],
   "source": [
    "# Por defecto pandas me muestra los 5 primeros registros\n",
    "df.head()"
   ]
  },
  {
   "cell_type": "code",
   "execution_count": 15,
   "metadata": {},
   "outputs": [],
   "source": [
    "df.columns =['Pais','Provincia','Experiencia','Años','Trabajo','Salario','Interés','Sexo']"
   ]
  },
  {
   "cell_type": "code",
   "execution_count": 16,
   "metadata": {},
   "outputs": [
    {
     "data": {
      "text/html": [
       "<div>\n",
       "<style scoped>\n",
       "    .dataframe tbody tr th:only-of-type {\n",
       "        vertical-align: middle;\n",
       "    }\n",
       "\n",
       "    .dataframe tbody tr th {\n",
       "        vertical-align: top;\n",
       "    }\n",
       "\n",
       "    .dataframe thead th {\n",
       "        text-align: right;\n",
       "    }\n",
       "</style>\n",
       "<table border=\"1\" class=\"dataframe\">\n",
       "  <thead>\n",
       "    <tr style=\"text-align: right;\">\n",
       "      <th></th>\n",
       "      <th>Pais</th>\n",
       "      <th>Provincia</th>\n",
       "      <th>Experiencia</th>\n",
       "      <th>Años</th>\n",
       "      <th>Trabajo</th>\n",
       "      <th>Salario</th>\n",
       "      <th>Interés</th>\n",
       "      <th>Sexo</th>\n",
       "    </tr>\n",
       "  </thead>\n",
       "  <tbody>\n",
       "    <tr>\n",
       "      <th>0</th>\n",
       "      <td>Perú</td>\n",
       "      <td>Cañete</td>\n",
       "      <td>Básica</td>\n",
       "      <td>5.0</td>\n",
       "      <td>Desempleado</td>\n",
       "      <td>1200</td>\n",
       "      <td>Ganar más dinero y trabajar menos.</td>\n",
       "      <td>Masculino</td>\n",
       "    </tr>\n",
       "    <tr>\n",
       "      <th>1</th>\n",
       "      <td>Perú</td>\n",
       "      <td>San Vicente</td>\n",
       "      <td>Básica</td>\n",
       "      <td>2.0</td>\n",
       "      <td>Desempleado</td>\n",
       "      <td>1200</td>\n",
       "      <td>software</td>\n",
       "      <td>Masculino</td>\n",
       "    </tr>\n",
       "    <tr>\n",
       "      <th>2</th>\n",
       "      <td>Perú</td>\n",
       "      <td>San Vicente</td>\n",
       "      <td>Intermedia</td>\n",
       "      <td>15.0</td>\n",
       "      <td>Independiente</td>\n",
       "      <td>150</td>\n",
       "      <td>ver peliculas</td>\n",
       "      <td>Femenino</td>\n",
       "    </tr>\n",
       "    <tr>\n",
       "      <th>3</th>\n",
       "      <td>Perú</td>\n",
       "      <td>San Vicente</td>\n",
       "      <td>Experta</td>\n",
       "      <td>15.0</td>\n",
       "      <td>Tiempo completo</td>\n",
       "      <td>2300</td>\n",
       "      <td>comer</td>\n",
       "      <td>Masculino</td>\n",
       "    </tr>\n",
       "    <tr>\n",
       "      <th>4</th>\n",
       "      <td>Perú</td>\n",
       "      <td>San Vicente - 28 de Julio</td>\n",
       "      <td>Experta</td>\n",
       "      <td>2.0</td>\n",
       "      <td>Tiempo completo</td>\n",
       "      <td>2300</td>\n",
       "      <td>Apasionado en la tecnologia</td>\n",
       "      <td>Masculino</td>\n",
       "    </tr>\n",
       "  </tbody>\n",
       "</table>\n",
       "</div>"
      ],
      "text/plain": [
       "   Pais                  Provincia Experiencia  Años          Trabajo  \\\n",
       "0  Perú                     Cañete      Básica   5.0      Desempleado   \n",
       "1  Perú                San Vicente      Básica   2.0      Desempleado   \n",
       "2  Perú                San Vicente  Intermedia  15.0    Independiente   \n",
       "3  Perú                San Vicente     Experta  15.0  Tiempo completo   \n",
       "4  Perú  San Vicente - 28 de Julio     Experta   2.0  Tiempo completo   \n",
       "\n",
       "   Salario                             Interés       Sexo  \n",
       "0     1200  Ganar más dinero y trabajar menos.  Masculino  \n",
       "1     1200                            software  Masculino  \n",
       "2      150                       ver peliculas   Femenino  \n",
       "3     2300                               comer  Masculino  \n",
       "4     2300         Apasionado en la tecnologia  Masculino  "
      ]
     },
     "execution_count": 16,
     "metadata": {},
     "output_type": "execute_result"
    }
   ],
   "source": [
    "df.head()"
   ]
  },
  {
   "cell_type": "code",
   "execution_count": 17,
   "metadata": {},
   "outputs": [
    {
     "data": {
      "text/html": [
       "<div>\n",
       "<style scoped>\n",
       "    .dataframe tbody tr th:only-of-type {\n",
       "        vertical-align: middle;\n",
       "    }\n",
       "\n",
       "    .dataframe tbody tr th {\n",
       "        vertical-align: top;\n",
       "    }\n",
       "\n",
       "    .dataframe thead th {\n",
       "        text-align: right;\n",
       "    }\n",
       "</style>\n",
       "<table border=\"1\" class=\"dataframe\">\n",
       "  <thead>\n",
       "    <tr style=\"text-align: right;\">\n",
       "      <th></th>\n",
       "      <th>Pais</th>\n",
       "      <th>Provincia</th>\n",
       "      <th>Experiencia</th>\n",
       "      <th>Años</th>\n",
       "      <th>Trabajo</th>\n",
       "      <th>Salario</th>\n",
       "      <th>Sexo</th>\n",
       "    </tr>\n",
       "  </thead>\n",
       "  <tbody>\n",
       "    <tr>\n",
       "      <th>0</th>\n",
       "      <td>Perú</td>\n",
       "      <td>Cañete</td>\n",
       "      <td>Básica</td>\n",
       "      <td>5.0</td>\n",
       "      <td>Desempleado</td>\n",
       "      <td>1200</td>\n",
       "      <td>Masculino</td>\n",
       "    </tr>\n",
       "    <tr>\n",
       "      <th>1</th>\n",
       "      <td>Perú</td>\n",
       "      <td>San Vicente</td>\n",
       "      <td>Básica</td>\n",
       "      <td>2.0</td>\n",
       "      <td>Desempleado</td>\n",
       "      <td>1200</td>\n",
       "      <td>Masculino</td>\n",
       "    </tr>\n",
       "    <tr>\n",
       "      <th>2</th>\n",
       "      <td>Perú</td>\n",
       "      <td>San Vicente</td>\n",
       "      <td>Intermedia</td>\n",
       "      <td>15.0</td>\n",
       "      <td>Independiente</td>\n",
       "      <td>150</td>\n",
       "      <td>Femenino</td>\n",
       "    </tr>\n",
       "    <tr>\n",
       "      <th>3</th>\n",
       "      <td>Perú</td>\n",
       "      <td>San Vicente</td>\n",
       "      <td>Experta</td>\n",
       "      <td>15.0</td>\n",
       "      <td>Tiempo completo</td>\n",
       "      <td>2300</td>\n",
       "      <td>Masculino</td>\n",
       "    </tr>\n",
       "    <tr>\n",
       "      <th>4</th>\n",
       "      <td>Perú</td>\n",
       "      <td>San Vicente - 28 de Julio</td>\n",
       "      <td>Experta</td>\n",
       "      <td>2.0</td>\n",
       "      <td>Tiempo completo</td>\n",
       "      <td>2300</td>\n",
       "      <td>Masculino</td>\n",
       "    </tr>\n",
       "  </tbody>\n",
       "</table>\n",
       "</div>"
      ],
      "text/plain": [
       "   Pais                  Provincia Experiencia  Años          Trabajo  \\\n",
       "0  Perú                     Cañete      Básica   5.0      Desempleado   \n",
       "1  Perú                San Vicente      Básica   2.0      Desempleado   \n",
       "2  Perú                San Vicente  Intermedia  15.0    Independiente   \n",
       "3  Perú                San Vicente     Experta  15.0  Tiempo completo   \n",
       "4  Perú  San Vicente - 28 de Julio     Experta   2.0  Tiempo completo   \n",
       "\n",
       "   Salario       Sexo  \n",
       "0     1200  Masculino  \n",
       "1     1200  Masculino  \n",
       "2      150   Femenino  \n",
       "3     2300  Masculino  \n",
       "4     2300  Masculino  "
      ]
     },
     "execution_count": 17,
     "metadata": {},
     "output_type": "execute_result"
    }
   ],
   "source": [
    "datos = df.drop(['Interés'],axis=1)\n",
    "datos.head()"
   ]
  },
  {
   "cell_type": "code",
   "execution_count": 18,
   "metadata": {},
   "outputs": [
    {
     "data": {
      "text/html": [
       "<div>\n",
       "<style scoped>\n",
       "    .dataframe tbody tr th:only-of-type {\n",
       "        vertical-align: middle;\n",
       "    }\n",
       "\n",
       "    .dataframe tbody tr th {\n",
       "        vertical-align: top;\n",
       "    }\n",
       "\n",
       "    .dataframe thead th {\n",
       "        text-align: right;\n",
       "    }\n",
       "</style>\n",
       "<table border=\"1\" class=\"dataframe\">\n",
       "  <thead>\n",
       "    <tr style=\"text-align: right;\">\n",
       "      <th></th>\n",
       "      <th>Años</th>\n",
       "      <th>Salario</th>\n",
       "    </tr>\n",
       "  </thead>\n",
       "  <tbody>\n",
       "    <tr>\n",
       "      <th>count</th>\n",
       "      <td>52.000000</td>\n",
       "      <td>5.200000e+01</td>\n",
       "    </tr>\n",
       "    <tr>\n",
       "      <th>mean</th>\n",
       "      <td>7.740385</td>\n",
       "      <td>1.981319e+05</td>\n",
       "    </tr>\n",
       "    <tr>\n",
       "      <th>std</th>\n",
       "      <td>6.299308</td>\n",
       "      <td>1.385960e+06</td>\n",
       "    </tr>\n",
       "    <tr>\n",
       "      <th>min</th>\n",
       "      <td>0.000000</td>\n",
       "      <td>1.000000e+02</td>\n",
       "    </tr>\n",
       "    <tr>\n",
       "      <th>25%</th>\n",
       "      <td>3.000000</td>\n",
       "      <td>1.500000e+03</td>\n",
       "    </tr>\n",
       "    <tr>\n",
       "      <th>50%</th>\n",
       "      <td>5.000000</td>\n",
       "      <td>2.300000e+03</td>\n",
       "    </tr>\n",
       "    <tr>\n",
       "      <th>75%</th>\n",
       "      <td>12.000000</td>\n",
       "      <td>5.000000e+03</td>\n",
       "    </tr>\n",
       "    <tr>\n",
       "      <th>max</th>\n",
       "      <td>32.000000</td>\n",
       "      <td>1.000000e+07</td>\n",
       "    </tr>\n",
       "  </tbody>\n",
       "</table>\n",
       "</div>"
      ],
      "text/plain": [
       "            Años       Salario\n",
       "count  52.000000  5.200000e+01\n",
       "mean    7.740385  1.981319e+05\n",
       "std     6.299308  1.385960e+06\n",
       "min     0.000000  1.000000e+02\n",
       "25%     3.000000  1.500000e+03\n",
       "50%     5.000000  2.300000e+03\n",
       "75%    12.000000  5.000000e+03\n",
       "max    32.000000  1.000000e+07"
      ]
     },
     "execution_count": 18,
     "metadata": {},
     "output_type": "execute_result"
    }
   ],
   "source": [
    "datos.describe()"
   ]
  },
  {
   "cell_type": "code",
   "execution_count": 19,
   "metadata": {},
   "outputs": [],
   "source": [
    "media = df['Años'].mean()\n",
    "mediana = df['Años'].median()\n",
    "moda = df['Años'].mode()"
   ]
  },
  {
   "cell_type": "code",
   "execution_count": 20,
   "metadata": {},
   "outputs": [
    {
     "name": "stdout",
     "output_type": "stream",
     "text": [
      "La media 7.740384615384615, mediana: 5.0 y moda es: 0    5.0\n",
      "dtype: float64\n"
     ]
    }
   ],
   "source": [
    "print('La media ' + str(media ) + ', mediana: ' + str(mediana) + ' y moda es: ' + str(moda) )"
   ]
  },
  {
   "cell_type": "code",
   "execution_count": 21,
   "metadata": {},
   "outputs": [
    {
     "data": {
      "text/plain": [
       "(52, 7)"
      ]
     },
     "execution_count": 21,
     "metadata": {},
     "output_type": "execute_result"
    }
   ],
   "source": [
    "datos.shape"
   ]
  },
  {
   "cell_type": "code",
   "execution_count": 22,
   "metadata": {},
   "outputs": [
    {
     "data": {
      "text/plain": [
       "(52, 8)"
      ]
     },
     "execution_count": 22,
     "metadata": {},
     "output_type": "execute_result"
    }
   ],
   "source": [
    "df.shape"
   ]
  },
  {
   "cell_type": "code",
   "execution_count": null,
   "metadata": {},
   "outputs": [],
   "source": []
  }
 ],
 "metadata": {
  "kernelspec": {
   "display_name": "Python 3",
   "language": "python",
   "name": "python3"
  },
  "language_info": {
   "codemirror_mode": {
    "name": "ipython",
    "version": 3
   },
   "file_extension": ".py",
   "mimetype": "text/x-python",
   "name": "python",
   "nbconvert_exporter": "python",
   "pygments_lexer": "ipython3",
   "version": "3.9.4"
  }
 },
 "nbformat": 4,
 "nbformat_minor": 2
}
