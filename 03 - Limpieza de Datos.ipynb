{
 "cells": [
  {
   "cell_type": "markdown",
   "metadata": {},
   "source": [
    "# Limpieza de Datos con Pandas\n",
    "Prof. Giancarlo Valencia Sotomayor   versión 1.1/21"
   ]
  },
  {
   "cell_type": "code",
   "execution_count": 1,
   "metadata": {},
   "outputs": [],
   "source": [
    "# Importamos de la librería pandas para el manejo de dataframes\n",
    "import pandas as pd"
   ]
  },
  {
   "cell_type": "code",
   "execution_count": 6,
   "metadata": {},
   "outputs": [],
   "source": [
    "# Importamos nuestro archivo CSV\n",
    "df = pd.read_csv('datasets\\\\01-participantes.csv')\n",
    "#df = pd.read_csv('Participantes2.csv', encoding='latin-1')"
   ]
  },
  {
   "cell_type": "code",
   "execution_count": 7,
   "metadata": {},
   "outputs": [
    {
     "data": {
      "text/html": [
       "<div>\n",
       "<style scoped>\n",
       "    .dataframe tbody tr th:only-of-type {\n",
       "        vertical-align: middle;\n",
       "    }\n",
       "\n",
       "    .dataframe tbody tr th {\n",
       "        vertical-align: top;\n",
       "    }\n",
       "\n",
       "    .dataframe thead th {\n",
       "        text-align: right;\n",
       "    }\n",
       "</style>\n",
       "<table border=\"1\" class=\"dataframe\">\n",
       "  <thead>\n",
       "    <tr style=\"text-align: right;\">\n",
       "      <th></th>\n",
       "      <th>¿En qué País vives?</th>\n",
       "      <th>Provincia</th>\n",
       "      <th>Experiencia en Data Science</th>\n",
       "      <th>Años de educación</th>\n",
       "      <th>¿Trabajas actualmente?</th>\n",
       "      <th>¿Cuál es tu salario anual?</th>\n",
       "      <th>¿Cuál es tu interés personal?</th>\n",
       "      <th>¿Cuál es tu sexo?</th>\n",
       "    </tr>\n",
       "  </thead>\n",
       "  <tbody>\n",
       "    <tr>\n",
       "      <th>0</th>\n",
       "      <td>Perú</td>\n",
       "      <td>Cañete</td>\n",
       "      <td>Básica</td>\n",
       "      <td>5.0</td>\n",
       "      <td>Desempleado</td>\n",
       "      <td>1200</td>\n",
       "      <td>Ganar más dinero y trabajar menos.</td>\n",
       "      <td>Masculino</td>\n",
       "    </tr>\n",
       "    <tr>\n",
       "      <th>1</th>\n",
       "      <td>Perú</td>\n",
       "      <td>San Vicente</td>\n",
       "      <td>Básica</td>\n",
       "      <td>2.0</td>\n",
       "      <td>Desempleado</td>\n",
       "      <td>1200</td>\n",
       "      <td>software</td>\n",
       "      <td>Masculino</td>\n",
       "    </tr>\n",
       "    <tr>\n",
       "      <th>2</th>\n",
       "      <td>Perú</td>\n",
       "      <td>San Vicente</td>\n",
       "      <td>Intermedia</td>\n",
       "      <td>15.0</td>\n",
       "      <td>Independiente</td>\n",
       "      <td>150</td>\n",
       "      <td>ver peliculas</td>\n",
       "      <td>Femenino</td>\n",
       "    </tr>\n",
       "    <tr>\n",
       "      <th>3</th>\n",
       "      <td>Perú</td>\n",
       "      <td>San Vicente</td>\n",
       "      <td>Experta</td>\n",
       "      <td>15.0</td>\n",
       "      <td>Tiempo completo</td>\n",
       "      <td>2300</td>\n",
       "      <td>comer</td>\n",
       "      <td>Masculino</td>\n",
       "    </tr>\n",
       "    <tr>\n",
       "      <th>4</th>\n",
       "      <td>Perú</td>\n",
       "      <td>San Vicente - 28 de Julio</td>\n",
       "      <td>Experta</td>\n",
       "      <td>2.0</td>\n",
       "      <td>Tiempo completo</td>\n",
       "      <td>2300</td>\n",
       "      <td>Apasionado en la tecnologia</td>\n",
       "      <td>Masculino</td>\n",
       "    </tr>\n",
       "  </tbody>\n",
       "</table>\n",
       "</div>"
      ],
      "text/plain": [
       "  ¿En qué País vives?                  Provincia Experiencia en Data Science  \\\n",
       "0                Perú                     Cañete                      Básica   \n",
       "1                Perú                San Vicente                      Básica   \n",
       "2                Perú                San Vicente                  Intermedia   \n",
       "3                Perú                San Vicente                     Experta   \n",
       "4                Perú  San Vicente - 28 de Julio                     Experta   \n",
       "\n",
       "   Años de educación ¿Trabajas actualmente?  ¿Cuál es tu salario anual?  \\\n",
       "0                5.0            Desempleado                        1200   \n",
       "1                2.0            Desempleado                        1200   \n",
       "2               15.0          Independiente                         150   \n",
       "3               15.0        Tiempo completo                        2300   \n",
       "4                2.0        Tiempo completo                        2300   \n",
       "\n",
       "        ¿Cuál es tu interés personal? ¿Cuál es tu sexo?  \n",
       "0  Ganar más dinero y trabajar menos.         Masculino  \n",
       "1                            software         Masculino  \n",
       "2                       ver peliculas          Femenino  \n",
       "3                               comer         Masculino  \n",
       "4         Apasionado en la tecnologia         Masculino  "
      ]
     },
     "execution_count": 7,
     "metadata": {},
     "output_type": "execute_result"
    }
   ],
   "source": [
    "# Mostramos los 5 primeros datos por defecto\n",
    "df.head()"
   ]
  },
  {
   "cell_type": "code",
   "execution_count": 34,
   "metadata": {},
   "outputs": [],
   "source": [
    "df.columns =['Pais','Provincia','Experiencia','Años','Trabajo','Salario','Interés','Sexo']"
   ]
  },
  {
   "cell_type": "code",
   "execution_count": 35,
   "metadata": {},
   "outputs": [
    {
     "data": {
      "text/html": [
       "<div>\n",
       "<style scoped>\n",
       "    .dataframe tbody tr th:only-of-type {\n",
       "        vertical-align: middle;\n",
       "    }\n",
       "\n",
       "    .dataframe tbody tr th {\n",
       "        vertical-align: top;\n",
       "    }\n",
       "\n",
       "    .dataframe thead th {\n",
       "        text-align: right;\n",
       "    }\n",
       "</style>\n",
       "<table border=\"1\" class=\"dataframe\">\n",
       "  <thead>\n",
       "    <tr style=\"text-align: right;\">\n",
       "      <th></th>\n",
       "      <th>Pais</th>\n",
       "      <th>Provincia</th>\n",
       "      <th>Experiencia</th>\n",
       "      <th>Años</th>\n",
       "      <th>Trabajo</th>\n",
       "      <th>Salario</th>\n",
       "      <th>Sexo</th>\n",
       "    </tr>\n",
       "  </thead>\n",
       "  <tbody>\n",
       "    <tr>\n",
       "      <th>0</th>\n",
       "      <td>Perú</td>\n",
       "      <td>Cañete</td>\n",
       "      <td>Básica</td>\n",
       "      <td>5.0</td>\n",
       "      <td>Desempleado</td>\n",
       "      <td>1200</td>\n",
       "      <td>Masculino</td>\n",
       "    </tr>\n",
       "    <tr>\n",
       "      <th>1</th>\n",
       "      <td>Perú</td>\n",
       "      <td>San Vicente</td>\n",
       "      <td>Básica</td>\n",
       "      <td>2.0</td>\n",
       "      <td>Desempleado</td>\n",
       "      <td>1200</td>\n",
       "      <td>Masculino</td>\n",
       "    </tr>\n",
       "    <tr>\n",
       "      <th>2</th>\n",
       "      <td>Perú</td>\n",
       "      <td>San Vicente</td>\n",
       "      <td>Intermedia</td>\n",
       "      <td>15.0</td>\n",
       "      <td>Independiente</td>\n",
       "      <td>150</td>\n",
       "      <td>Femenino</td>\n",
       "    </tr>\n",
       "    <tr>\n",
       "      <th>3</th>\n",
       "      <td>Perú</td>\n",
       "      <td>San Vicente</td>\n",
       "      <td>Experta</td>\n",
       "      <td>15.0</td>\n",
       "      <td>Tiempo completo</td>\n",
       "      <td>2300</td>\n",
       "      <td>Masculino</td>\n",
       "    </tr>\n",
       "    <tr>\n",
       "      <th>4</th>\n",
       "      <td>Perú</td>\n",
       "      <td>San Vicente - 28 de Julio</td>\n",
       "      <td>Experta</td>\n",
       "      <td>2.0</td>\n",
       "      <td>Tiempo completo</td>\n",
       "      <td>2300</td>\n",
       "      <td>Masculino</td>\n",
       "    </tr>\n",
       "  </tbody>\n",
       "</table>\n",
       "</div>"
      ],
      "text/plain": [
       "   Pais                  Provincia Experiencia  Años          Trabajo  \\\n",
       "0  Perú                     Cañete      Básica   5.0      Desempleado   \n",
       "1  Perú                San Vicente      Básica   2.0      Desempleado   \n",
       "2  Perú                San Vicente  Intermedia  15.0    Independiente   \n",
       "3  Perú                San Vicente     Experta  15.0  Tiempo completo   \n",
       "4  Perú  San Vicente - 28 de Julio     Experta   2.0  Tiempo completo   \n",
       "\n",
       "   Salario       Sexo  \n",
       "0     1200  Masculino  \n",
       "1     1200  Masculino  \n",
       "2      150   Femenino  \n",
       "3     2300  Masculino  \n",
       "4     2300  Masculino  "
      ]
     },
     "execution_count": 35,
     "metadata": {},
     "output_type": "execute_result"
    }
   ],
   "source": [
    "datos = df.drop(['Interés'],axis=1)\n",
    "datos.head()"
   ]
  },
  {
   "cell_type": "code",
   "execution_count": 36,
   "metadata": {},
   "outputs": [
    {
     "data": {
      "text/plain": [
       "0        Desempleado\n",
       "1        Desempleado\n",
       "2      Independiente\n",
       "3    Tiempo completo\n",
       "4    Tiempo completo\n",
       "Name: Trabajo, dtype: object"
      ]
     },
     "execution_count": 36,
     "metadata": {},
     "output_type": "execute_result"
    }
   ],
   "source": [
    "datos['Trabajo'][:5] # tipos de trabajo"
   ]
  },
  {
   "cell_type": "code",
   "execution_count": 8,
   "metadata": {},
   "outputs": [
    {
     "data": {
      "text/plain": [
       "Perú               24\n",
       "Peru                4\n",
       "Perù                2\n",
       "Colombia            2\n",
       "Brasil              2\n",
       "España              2\n",
       "china               1\n",
       "Perú                1\n",
       "Peru                1\n",
       "Australia           1\n",
       "Japon               1\n",
       "Colombia            1\n",
       "Estados Unidos      1\n",
       "China               1\n",
       "Chile               1\n",
       "China               1\n",
       "Alemania            1\n",
       "Nueva Zelanda       1\n",
       "Argentina           1\n",
       "Canada              1\n",
       "Canadá              1\n",
       "Venezuela           1\n",
       "Name: Pais, dtype: int64"
      ]
     },
     "execution_count": 8,
     "metadata": {},
     "output_type": "execute_result"
    }
   ],
   "source": [
    "datos.Pais.value_counts()"
   ]
  },
  {
   "cell_type": "code",
   "execution_count": 37,
   "metadata": {},
   "outputs": [
    {
     "data": {
      "text/plain": [
       "22"
      ]
     },
     "execution_count": 37,
     "metadata": {},
     "output_type": "execute_result"
    }
   ],
   "source": [
    "len(datos.Pais.value_counts())"
   ]
  },
  {
   "cell_type": "code",
   "execution_count": 38,
   "metadata": {},
   "outputs": [
    {
     "data": {
      "text/html": [
       "<div>\n",
       "<style scoped>\n",
       "    .dataframe tbody tr th:only-of-type {\n",
       "        vertical-align: middle;\n",
       "    }\n",
       "\n",
       "    .dataframe tbody tr th {\n",
       "        vertical-align: top;\n",
       "    }\n",
       "\n",
       "    .dataframe thead th {\n",
       "        text-align: right;\n",
       "    }\n",
       "</style>\n",
       "<table border=\"1\" class=\"dataframe\">\n",
       "  <thead>\n",
       "    <tr style=\"text-align: right;\">\n",
       "      <th></th>\n",
       "      <th>Pais</th>\n",
       "      <th>Provincia</th>\n",
       "      <th>Experiencia</th>\n",
       "      <th>Años</th>\n",
       "      <th>Trabajo</th>\n",
       "      <th>Salario</th>\n",
       "      <th>Sexo</th>\n",
       "    </tr>\n",
       "  </thead>\n",
       "  <tbody>\n",
       "    <tr>\n",
       "      <th>13</th>\n",
       "      <td>Perù</td>\n",
       "      <td>Tokio</td>\n",
       "      <td>Básica</td>\n",
       "      <td>5.0</td>\n",
       "      <td>Desempleado</td>\n",
       "      <td>2010</td>\n",
       "      <td>Masculino</td>\n",
       "    </tr>\n",
       "    <tr>\n",
       "      <th>23</th>\n",
       "      <td>Perù</td>\n",
       "      <td>Imperial</td>\n",
       "      <td>Básica</td>\n",
       "      <td>2.0</td>\n",
       "      <td>Desempleado</td>\n",
       "      <td>1500</td>\n",
       "      <td>Femenino</td>\n",
       "    </tr>\n",
       "  </tbody>\n",
       "</table>\n",
       "</div>"
      ],
      "text/plain": [
       "    Pais Provincia Experiencia  Años      Trabajo  Salario       Sexo\n",
       "13  Perù    Tokio       Básica   5.0  Desempleado     2010  Masculino\n",
       "23  Perù  Imperial      Básica   2.0  Desempleado     1500   Femenino"
      ]
     },
     "execution_count": 38,
     "metadata": {},
     "output_type": "execute_result"
    }
   ],
   "source": [
    "datos.loc[datos.Pais=='Perù'].head()"
   ]
  },
  {
   "cell_type": "code",
   "execution_count": 39,
   "metadata": {},
   "outputs": [],
   "source": [
    "datos.loc[datos.Pais=='Perù','Pais']='Perú'"
   ]
  },
  {
   "cell_type": "code",
   "execution_count": 40,
   "metadata": {},
   "outputs": [
    {
     "data": {
      "text/plain": [
       "26"
      ]
     },
     "execution_count": 40,
     "metadata": {},
     "output_type": "execute_result"
    }
   ],
   "source": [
    "len(datos.loc[datos.Pais == 'Perú'])"
   ]
  },
  {
   "cell_type": "code",
   "execution_count": 41,
   "metadata": {},
   "outputs": [],
   "source": [
    "conversion =[('Peru','Perú'),\n",
    "             ('Peru ','Perú'),\n",
    "             ('Perú ','Perú'),\n",
    "             ('china','China'),\n",
    "             ('Canada','Canadá')    \n",
    "]"
   ]
  },
  {
   "cell_type": "code",
   "execution_count": 42,
   "metadata": {},
   "outputs": [
    {
     "data": {
      "text/plain": [
       "'Perú'"
      ]
     },
     "execution_count": 42,
     "metadata": {},
     "output_type": "execute_result"
    }
   ],
   "source": [
    "conversion[2][1]"
   ]
  },
  {
   "cell_type": "code",
   "execution_count": 43,
   "metadata": {},
   "outputs": [
    {
     "name": "stdout",
     "output_type": "stream",
     "text": [
      "Convierto Peru -> Perú\n",
      "Convierto Peru  -> Perú\n",
      "Convierto Perú  -> Perú\n",
      "Convierto china -> China\n",
      "Convierto Canada -> Canadá\n"
     ]
    }
   ],
   "source": [
    "for c in conversion:    \n",
    "    datos.loc[datos.Pais == c[0],'Pais'] = c[1]\n",
    "    print('Convierto {0} -> {1}'.format(c[0],c[1]))"
   ]
  },
  {
   "cell_type": "code",
   "execution_count": 44,
   "metadata": {},
   "outputs": [
    {
     "data": {
      "text/plain": [
       "Perú               32\n",
       "Colombia            2\n",
       "Canadá              2\n",
       "China               2\n",
       "España              2\n",
       "Brasil              2\n",
       "Estados Unidos      1\n",
       "Alemania            1\n",
       "Argentina           1\n",
       "Nueva Zelanda       1\n",
       "China               1\n",
       "Japon               1\n",
       "Australia           1\n",
       "Chile               1\n",
       "Colombia            1\n",
       "Venezuela           1\n",
       "Name: Pais, dtype: int64"
      ]
     },
     "execution_count": 44,
     "metadata": {},
     "output_type": "execute_result"
    }
   ],
   "source": [
    "datos.Pais.value_counts()"
   ]
  },
  {
   "cell_type": "code",
   "execution_count": 45,
   "metadata": {},
   "outputs": [
    {
     "data": {
      "text/plain": [
       "16"
      ]
     },
     "execution_count": 45,
     "metadata": {},
     "output_type": "execute_result"
    }
   ],
   "source": [
    "len(datos.Pais.value_counts())"
   ]
  },
  {
   "cell_type": "code",
   "execution_count": 46,
   "metadata": {},
   "outputs": [],
   "source": [
    "#for i in range(53):\n",
    "    #datos.loc[i,'Pais']=datos.Pais.strip()"
   ]
  },
  {
   "cell_type": "code",
   "execution_count": 49,
   "metadata": {},
   "outputs": [],
   "source": [
    "# pip install openpyxl\n",
    "datos.to_excel('ParticipantesLimpio1.xlsx',index=False)"
   ]
  },
  {
   "cell_type": "code",
   "execution_count": null,
   "metadata": {},
   "outputs": [],
   "source": []
  }
 ],
 "metadata": {
  "kernelspec": {
   "display_name": "Python 3",
   "language": "python",
   "name": "python3"
  },
  "language_info": {
   "codemirror_mode": {
    "name": "ipython",
    "version": 3
   },
   "file_extension": ".py",
   "mimetype": "text/x-python",
   "name": "python",
   "nbconvert_exporter": "python",
   "pygments_lexer": "ipython3",
   "version": "3.9.4"
  }
 },
 "nbformat": 4,
 "nbformat_minor": 4
}
