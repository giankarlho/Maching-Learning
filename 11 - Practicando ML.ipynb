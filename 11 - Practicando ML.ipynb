{
 "cells": [
  {
   "cell_type": "markdown",
   "id": "6d7fd50c",
   "metadata": {},
   "source": [
    "Usando Sklearn con umpy en un árbol de desición"
   ]
  },
  {
   "cell_type": "code",
   "execution_count": 1,
   "id": "50675479",
   "metadata": {},
   "outputs": [],
   "source": [
    "# Librería para manejo matricial\n",
    "import numpy"
   ]
  },
  {
   "cell_type": "code",
   "execution_count": 2,
   "id": "f38d7e77",
   "metadata": {},
   "outputs": [],
   "source": [
    "# importando sólo la librería tree del paquete sklearn\n",
    "from sklearn import tree"
   ]
  },
  {
   "cell_type": "code",
   "execution_count": 3,
   "id": "0e90d7d0",
   "metadata": {},
   "outputs": [],
   "source": [
    "# creando tuplas para atributos y etiquetas, los contenidos son inmutables\n",
    "atributos = [[140,1],[130,1],[150,0],[170,0]]\n",
    "etiquetas = [0,0,1,1]"
   ]
  },
  {
   "cell_type": "code",
   "execution_count": 5,
   "id": "8cc07f49",
   "metadata": {},
   "outputs": [],
   "source": [
    "# Usando la función DecisionTreeClassifier de la librería tree\n",
    "clasificador = tree.DecisionTreeClassifier()\n",
    "# Pasando los atributos y etiquetas al clasificador con fit\n",
    "clasificador = clasificador.fit(atributos,etiquetas)"
   ]
  },
  {
   "cell_type": "code",
   "execution_count": 8,
   "id": "28deeec1",
   "metadata": {},
   "outputs": [
    {
     "name": "stdout",
     "output_type": "stream",
     "text": [
      "[1]\n"
     ]
    }
   ],
   "source": [
    "# Mostrando el resultado\n",
    "print(clasificador.predict([[160,0]]))"
   ]
  },
  {
   "cell_type": "code",
   "execution_count": 1,
   "id": "ce0133e3",
   "metadata": {},
   "outputs": [],
   "source": [
    "# matriz de confusión en sklearnde sklearn . \n",
    "# importación de métricas \n",
    "from sklearn.metrics import confusion_matrix"
   ]
  },
  {
   "cell_type": "code",
   "execution_count": 2,
   "id": "a119d81c",
   "metadata": {},
   "outputs": [
    {
     "data": {
      "text/plain": [
       "array([[5, 1],\n",
       "       [2, 2]], dtype=int64)"
      ]
     },
     "execution_count": 2,
     "metadata": {},
     "output_type": "execute_result"
    }
   ],
   "source": [
    "# valores actuales\n",
    "actual = [1, 0 , 0 , 1 , 0 , 0 , 1 , 0 , 0 , 1 ]\n",
    "# valores predichos\n",
    "predicho = [ 1 , 0 , 0 , 1 , 0 , 0 , 0 , 1 , 0 , 0 ] \n",
    "confusion_matrix(actual, predicho)"
   ]
  },
  {
   "cell_type": "code",
   "execution_count": 3,
   "id": "dec68a97",
   "metadata": {},
   "outputs": [
    {
     "name": "stdout",
     "output_type": "stream",
     "text": [
      "Matriz de confusión:\n",
      " [[2 2]\n",
      " [1 5]]\n"
     ]
    }
   ],
   "source": [
    "# matriz de confusión\n",
    "matriz = confusion_matrix(actual, predicho, labels= [1,0])\n",
    "print(\"Matriz de confusión:\\n\", matriz) "
   ]
  },
  {
   "cell_type": "code",
   "execution_count": 4,
   "id": "c83f98a8",
   "metadata": {},
   "outputs": [
    {
     "name": "stdout",
     "output_type": "stream",
     "text": [
      "Valores de resultado: \n",
      " 2 2 1 5\n",
      "Informe de clasificación: \n",
      "               precision    recall  f1-score   support\n",
      "\n",
      "           1       0.67      0.50      0.57         4\n",
      "           0       0.71      0.83      0.77         6\n",
      "\n",
      "    accuracy                           0.70        10\n",
      "   macro avg       0.69      0.67      0.67        10\n",
      "weighted avg       0.70      0.70      0.69        10\n",
      "\n"
     ]
    }
   ],
   "source": [
    "from sklearn.metrics import classification_report\n",
    "# orden de valores de resultado en sklearn\n",
    "tp, fn, fp, tn = confusion_matrix(actual,predicho,labels=[1,0]).ravel()\n",
    "print (\"Valores de resultado: \\n\",tp,fn,fp,tn) \n",
    "# informe de clasificación para precisión, recuperación de puntuación f1 y exactitud\n",
    "matriz = classification_report (actual,predicho,labels=[1,0])\n",
    "print(\"Informe de clasificación: \\n\", matriz)"
   ]
  },
  {
   "cell_type": "code",
   "execution_count": 5,
   "id": "ff9216f9",
   "metadata": {},
   "outputs": [
    {
     "data": {
      "text/plain": [
       "<AxesSubplot:>"
      ]
     },
     "execution_count": 5,
     "metadata": {},
     "output_type": "execute_result"
    },
    {
     "data": {
      "image/png": "[encoded data removed]",
      "text/plain": [
       "<Figure size 432x288 with 2 Axes>"
      ]
     },
     "metadata": {
      "needs_background": "light"
     },
     "output_type": "display_data"
    }
   ],
   "source": [
    "# Paquete dependiente de importación\n",
    "import seaborn as sns\n",
    "y_true = [\"cat\", \"dog\", \"cat\", \"cat\", \"dog\", \"rebit\"]\n",
    "y_pred = [\"dog\", \"dog\", \"rebit\", \"cat\", \"dog\", \"cat\"]\n",
    "C2= confusion_matrix(y_true, y_pred, labels=[\"dog\", \"rebit\", \"cat\"])\n",
    "sns.heatmap(C2,annot=True)"
   ]
  },
  {
   "cell_type": "code",
   "execution_count": 27,
   "id": "2f9d0b6f",
   "metadata": {},
   "outputs": [],
   "source": [
    "import matplotlib as plt\n",
    "import numpy as np"
   ]
  },
  {
   "cell_type": "code",
   "execution_count": 28,
   "id": "4de2f223",
   "metadata": {},
   "outputs": [
    {
     "ename": "AttributeError",
     "evalue": "module 'matplotlib' has no attribute 'subplots'",
     "output_type": "error",
     "traceback": [
      "\u001b[1;31m---------------------------------------------------------------------------\u001b[0m",
      "\u001b[1;31mAttributeError\u001b[0m                            Traceback (most recent call last)",
      "\u001b[1;32m<ipython-input-28-53d6cc05b9a3>\u001b[0m in \u001b[0;36m<module>\u001b[1;34m\u001b[0m\n\u001b[1;32m----> 1\u001b[1;33m \u001b[0mfig\u001b[0m\u001b[1;33m,\u001b[0m\u001b[0max\u001b[0m\u001b[1;33m=\u001b[0m\u001b[0mplt\u001b[0m\u001b[1;33m.\u001b[0m\u001b[0msubplots\u001b[0m\u001b[1;33m(\u001b[0m\u001b[0mfigsize\u001b[0m\u001b[1;33m=\u001b[0m\u001b[1;33m(\u001b[0m\u001b[1;36m10\u001b[0m\u001b[1;33m,\u001b[0m\u001b[1;36m5\u001b[0m\u001b[1;33m)\u001b[0m\u001b[1;33m)\u001b[0m\u001b[1;33m\u001b[0m\u001b[1;33m\u001b[0m\u001b[0m\n\u001b[0m\u001b[0;32m      2\u001b[0m \u001b[0max\u001b[0m\u001b[1;33m.\u001b[0m\u001b[0mmatshow\u001b[0m\u001b[1;33m(\u001b[0m\u001b[0mmatriz\u001b[0m\u001b[1;33m)\u001b[0m\u001b[1;33m\u001b[0m\u001b[1;33m\u001b[0m\u001b[0m\n\u001b[0;32m      3\u001b[0m \u001b[0mplt\u001b[0m\u001b[1;33m.\u001b[0m\u001b[0mtitle\u001b[0m\u001b[1;33m(\u001b[0m\u001b[1;34m\"Matriz de confusión\"\u001b[0m\u001b[1;33m,\u001b[0m\u001b[0mfontsize\u001b[0m\u001b[1;33m=\u001b[0m\u001b[1;36m20\u001b[0m\u001b[1;33m)\u001b[0m\u001b[1;33m\u001b[0m\u001b[1;33m\u001b[0m\u001b[0m\n\u001b[0;32m      4\u001b[0m \u001b[0mplt\u001b[0m\u001b[1;33m.\u001b[0m\u001b[0mylabel\u001b[0m\u001b[1;33m(\u001b[0m\u001b[1;34m\"Etiquetas verdaderas\"\u001b[0m\u001b[1;33m,\u001b[0m\u001b[0mfontsize\u001b[0m\u001b[1;33m=\u001b[0m\u001b[1;36m15\u001b[0m\u001b[1;33m)\u001b[0m\u001b[1;33m\u001b[0m\u001b[1;33m\u001b[0m\u001b[0m\n\u001b[0;32m      5\u001b[0m \u001b[0mplt\u001b[0m\u001b[1;33m.\u001b[0m\u001b[0mxlabel\u001b[0m\u001b[1;33m(\u001b[0m\u001b[1;34m\"Etiquetas Predichas\"\u001b[0m\u001b[1;33m,\u001b[0m\u001b[0mfontsize\u001b[0m\u001b[1;33m=\u001b[0m\u001b[1;36m15\u001b[0m\u001b[1;33m)\u001b[0m\u001b[1;33m\u001b[0m\u001b[1;33m\u001b[0m\u001b[0m\n",
      "\u001b[1;31mAttributeError\u001b[0m: module 'matplotlib' has no attribute 'subplots'"
     ]
    }
   ],
   "source": [
    "fig,ax=plt.subplots(figsize=(10,5))\n",
    "ax.matshow(matriz)\n",
    "plt.title(\"Matriz de confusión\",fontsize=20)\n",
    "plt.ylabel(\"Etiquetas verdaderas\",fontsize=15)\n",
    "plt.xlabel(\"Etiquetas Predichas\",fontsize=15)\n",
    "for (i,j),z in np.ndenumerate(matriz):\n",
    "    ax.text(j,i,'{:0.1f}'.format(z),ha='center',va='center')"
   ]
  },
  {
   "cell_type": "code",
   "execution_count": null,
   "id": "46a76458",
   "metadata": {},
   "outputs": [],
   "source": []
  }
 ],
 "metadata": {
  "kernelspec": {
   "display_name": "Python 3",
   "language": "python",
   "name": "python3"
  },
  "language_info": {
   "codemirror_mode": {
    "name": "ipython",
    "version": 3
   },
   "file_extension": ".py",
   "mimetype": "text/x-python",
   "name": "python",
   "nbconvert_exporter": "python",
   "pygments_lexer": "ipython3",
   "version": "3.9.4"
  }
 },
 "nbformat": 4,
 "nbformat_minor": 5
}
