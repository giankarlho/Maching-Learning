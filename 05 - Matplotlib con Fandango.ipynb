{
 "cells": [
  {
   "cell_type": "markdown",
   "metadata": {},
   "source": [
    "# Exploración del dataset de Fandango\n",
    "\n",
    "* https://www.kaggle.com/fivethirtyeight/fivethirtyeight-fandango-dataset\n",
    "* Gráficas de Barras\n",
    "* Hostogramas\n",
    "* Scatter Plot (X-Y)"
   ]
  },
  {
   "cell_type": "code",
   "execution_count": 10,
   "metadata": {
    "scrolled": true
   },
   "outputs": [],
   "source": [
    "import numpy as np\n",
    "import pandas as pd\n",
    "import matplotlib.pyplot as plt\n",
    "\n",
    "%matplotlib inline"
   ]
  },
  {
   "cell_type": "code",
   "execution_count": 12,
   "metadata": {},
   "outputs": [
    {
     "data": {
      "text/html": [
       "<div>\n",
       "<style scoped>\n",
       "    .dataframe tbody tr th:only-of-type {\n",
       "        vertical-align: middle;\n",
       "    }\n",
       "\n",
       "    .dataframe tbody tr th {\n",
       "        vertical-align: top;\n",
       "    }\n",
       "\n",
       "    .dataframe thead th {\n",
       "        text-align: right;\n",
       "    }\n",
       "</style>\n",
       "<table border=\"1\" class=\"dataframe\">\n",
       "  <thead>\n",
       "    <tr style=\"text-align: right;\">\n",
       "      <th></th>\n",
       "      <th>FILM</th>\n",
       "      <th>RottenTomatoes</th>\n",
       "      <th>RottenTomatoes_User</th>\n",
       "      <th>Metacritic</th>\n",
       "      <th>Metacritic_User</th>\n",
       "      <th>IMDB</th>\n",
       "      <th>Fandango_Stars</th>\n",
       "      <th>Fandango_Ratingvalue</th>\n",
       "      <th>RT_norm</th>\n",
       "      <th>RT_user_norm</th>\n",
       "      <th>...</th>\n",
       "      <th>IMDB_norm</th>\n",
       "      <th>RT_norm_round</th>\n",
       "      <th>RT_user_norm_round</th>\n",
       "      <th>Metacritic_norm_round</th>\n",
       "      <th>Metacritic_user_norm_round</th>\n",
       "      <th>IMDB_norm_round</th>\n",
       "      <th>Metacritic_user_vote_count</th>\n",
       "      <th>IMDB_user_vote_count</th>\n",
       "      <th>Fandango_votes</th>\n",
       "      <th>Fandango_Difference</th>\n",
       "    </tr>\n",
       "  </thead>\n",
       "  <tbody>\n",
       "    <tr>\n",
       "      <th>0</th>\n",
       "      <td>Avengers: Age of Ultron (2015)</td>\n",
       "      <td>74</td>\n",
       "      <td>86</td>\n",
       "      <td>66</td>\n",
       "      <td>7.1</td>\n",
       "      <td>7.8</td>\n",
       "      <td>5.0</td>\n",
       "      <td>4.5</td>\n",
       "      <td>3.70</td>\n",
       "      <td>4.3</td>\n",
       "      <td>...</td>\n",
       "      <td>3.90</td>\n",
       "      <td>3.5</td>\n",
       "      <td>4.5</td>\n",
       "      <td>3.5</td>\n",
       "      <td>3.5</td>\n",
       "      <td>4.0</td>\n",
       "      <td>1330</td>\n",
       "      <td>271107</td>\n",
       "      <td>14846</td>\n",
       "      <td>0.5</td>\n",
       "    </tr>\n",
       "    <tr>\n",
       "      <th>1</th>\n",
       "      <td>Cinderella (2015)</td>\n",
       "      <td>85</td>\n",
       "      <td>80</td>\n",
       "      <td>67</td>\n",
       "      <td>7.5</td>\n",
       "      <td>7.1</td>\n",
       "      <td>5.0</td>\n",
       "      <td>4.5</td>\n",
       "      <td>4.25</td>\n",
       "      <td>4.0</td>\n",
       "      <td>...</td>\n",
       "      <td>3.55</td>\n",
       "      <td>4.5</td>\n",
       "      <td>4.0</td>\n",
       "      <td>3.5</td>\n",
       "      <td>4.0</td>\n",
       "      <td>3.5</td>\n",
       "      <td>249</td>\n",
       "      <td>65709</td>\n",
       "      <td>12640</td>\n",
       "      <td>0.5</td>\n",
       "    </tr>\n",
       "    <tr>\n",
       "      <th>2</th>\n",
       "      <td>Ant-Man (2015)</td>\n",
       "      <td>80</td>\n",
       "      <td>90</td>\n",
       "      <td>64</td>\n",
       "      <td>8.1</td>\n",
       "      <td>7.8</td>\n",
       "      <td>5.0</td>\n",
       "      <td>4.5</td>\n",
       "      <td>4.00</td>\n",
       "      <td>4.5</td>\n",
       "      <td>...</td>\n",
       "      <td>3.90</td>\n",
       "      <td>4.0</td>\n",
       "      <td>4.5</td>\n",
       "      <td>3.0</td>\n",
       "      <td>4.0</td>\n",
       "      <td>4.0</td>\n",
       "      <td>627</td>\n",
       "      <td>103660</td>\n",
       "      <td>12055</td>\n",
       "      <td>0.5</td>\n",
       "    </tr>\n",
       "    <tr>\n",
       "      <th>3</th>\n",
       "      <td>Do You Believe? (2015)</td>\n",
       "      <td>18</td>\n",
       "      <td>84</td>\n",
       "      <td>22</td>\n",
       "      <td>4.7</td>\n",
       "      <td>5.4</td>\n",
       "      <td>5.0</td>\n",
       "      <td>4.5</td>\n",
       "      <td>0.90</td>\n",
       "      <td>4.2</td>\n",
       "      <td>...</td>\n",
       "      <td>2.70</td>\n",
       "      <td>1.0</td>\n",
       "      <td>4.0</td>\n",
       "      <td>1.0</td>\n",
       "      <td>2.5</td>\n",
       "      <td>2.5</td>\n",
       "      <td>31</td>\n",
       "      <td>3136</td>\n",
       "      <td>1793</td>\n",
       "      <td>0.5</td>\n",
       "    </tr>\n",
       "    <tr>\n",
       "      <th>4</th>\n",
       "      <td>Hot Tub Time Machine 2 (2015)</td>\n",
       "      <td>14</td>\n",
       "      <td>28</td>\n",
       "      <td>29</td>\n",
       "      <td>3.4</td>\n",
       "      <td>5.1</td>\n",
       "      <td>3.5</td>\n",
       "      <td>3.0</td>\n",
       "      <td>0.70</td>\n",
       "      <td>1.4</td>\n",
       "      <td>...</td>\n",
       "      <td>2.55</td>\n",
       "      <td>0.5</td>\n",
       "      <td>1.5</td>\n",
       "      <td>1.5</td>\n",
       "      <td>1.5</td>\n",
       "      <td>2.5</td>\n",
       "      <td>88</td>\n",
       "      <td>19560</td>\n",
       "      <td>1021</td>\n",
       "      <td>0.5</td>\n",
       "    </tr>\n",
       "  </tbody>\n",
       "</table>\n",
       "<p>5 rows × 22 columns</p>\n",
       "</div>"
      ],
      "text/plain": [
       "                             FILM  RottenTomatoes  RottenTomatoes_User  \\\n",
       "0  Avengers: Age of Ultron (2015)              74                   86   \n",
       "1               Cinderella (2015)              85                   80   \n",
       "2                  Ant-Man (2015)              80                   90   \n",
       "3          Do You Believe? (2015)              18                   84   \n",
       "4   Hot Tub Time Machine 2 (2015)              14                   28   \n",
       "\n",
       "   Metacritic  Metacritic_User  IMDB  Fandango_Stars  Fandango_Ratingvalue  \\\n",
       "0          66              7.1   7.8             5.0                   4.5   \n",
       "1          67              7.5   7.1             5.0                   4.5   \n",
       "2          64              8.1   7.8             5.0                   4.5   \n",
       "3          22              4.7   5.4             5.0                   4.5   \n",
       "4          29              3.4   5.1             3.5                   3.0   \n",
       "\n",
       "   RT_norm  RT_user_norm  ...  IMDB_norm  RT_norm_round  RT_user_norm_round  \\\n",
       "0     3.70           4.3  ...       3.90            3.5                 4.5   \n",
       "1     4.25           4.0  ...       3.55            4.5                 4.0   \n",
       "2     4.00           4.5  ...       3.90            4.0                 4.5   \n",
       "3     0.90           4.2  ...       2.70            1.0                 4.0   \n",
       "4     0.70           1.4  ...       2.55            0.5                 1.5   \n",
       "\n",
       "   Metacritic_norm_round  Metacritic_user_norm_round  IMDB_norm_round  \\\n",
       "0                    3.5                         3.5              4.0   \n",
       "1                    3.5                         4.0              3.5   \n",
       "2                    3.0                         4.0              4.0   \n",
       "3                    1.0                         2.5              2.5   \n",
       "4                    1.5                         1.5              2.5   \n",
       "\n",
       "   Metacritic_user_vote_count  IMDB_user_vote_count  Fandango_votes  \\\n",
       "0                        1330                271107           14846   \n",
       "1                         249                 65709           12640   \n",
       "2                         627                103660           12055   \n",
       "3                          31                  3136            1793   \n",
       "4                          88                 19560            1021   \n",
       "\n",
       "   Fandango_Difference  \n",
       "0                  0.5  \n",
       "1                  0.5  \n",
       "2                  0.5  \n",
       "3                  0.5  \n",
       "4                  0.5  \n",
       "\n",
       "[5 rows x 22 columns]"
      ]
     },
     "execution_count": 12,
     "metadata": {},
     "output_type": "execute_result"
    }
   ],
   "source": [
    "df = pd.read_csv('datasets\\\\05-fandango.csv')\n",
    "df.head()"
   ]
  },
  {
   "cell_type": "code",
   "execution_count": 3,
   "metadata": {},
   "outputs": [
    {
     "data": {
      "text/html": [
       "<div>\n",
       "<style scoped>\n",
       "    .dataframe tbody tr th:only-of-type {\n",
       "        vertical-align: middle;\n",
       "    }\n",
       "\n",
       "    .dataframe tbody tr th {\n",
       "        vertical-align: top;\n",
       "    }\n",
       "\n",
       "    .dataframe thead th {\n",
       "        text-align: right;\n",
       "    }\n",
       "</style>\n",
       "<table border=\"1\" class=\"dataframe\">\n",
       "  <thead>\n",
       "    <tr style=\"text-align: right;\">\n",
       "      <th></th>\n",
       "      <th>0</th>\n",
       "      <th>1</th>\n",
       "      <th>2</th>\n",
       "      <th>3</th>\n",
       "      <th>4</th>\n",
       "    </tr>\n",
       "  </thead>\n",
       "  <tbody>\n",
       "    <tr>\n",
       "      <th>FILM</th>\n",
       "      <td>Avengers: Age of Ultron (2015)</td>\n",
       "      <td>Cinderella (2015)</td>\n",
       "      <td>Ant-Man (2015)</td>\n",
       "      <td>Do You Believe? (2015)</td>\n",
       "      <td>Hot Tub Time Machine 2 (2015)</td>\n",
       "    </tr>\n",
       "    <tr>\n",
       "      <th>RottenTomatoes</th>\n",
       "      <td>74</td>\n",
       "      <td>85</td>\n",
       "      <td>80</td>\n",
       "      <td>18</td>\n",
       "      <td>14</td>\n",
       "    </tr>\n",
       "    <tr>\n",
       "      <th>RottenTomatoes_User</th>\n",
       "      <td>86</td>\n",
       "      <td>80</td>\n",
       "      <td>90</td>\n",
       "      <td>84</td>\n",
       "      <td>28</td>\n",
       "    </tr>\n",
       "    <tr>\n",
       "      <th>Metacritic</th>\n",
       "      <td>66</td>\n",
       "      <td>67</td>\n",
       "      <td>64</td>\n",
       "      <td>22</td>\n",
       "      <td>29</td>\n",
       "    </tr>\n",
       "    <tr>\n",
       "      <th>Metacritic_User</th>\n",
       "      <td>7.1</td>\n",
       "      <td>7.5</td>\n",
       "      <td>8.1</td>\n",
       "      <td>4.7</td>\n",
       "      <td>3.4</td>\n",
       "    </tr>\n",
       "    <tr>\n",
       "      <th>IMDB</th>\n",
       "      <td>7.8</td>\n",
       "      <td>7.1</td>\n",
       "      <td>7.8</td>\n",
       "      <td>5.4</td>\n",
       "      <td>5.1</td>\n",
       "    </tr>\n",
       "    <tr>\n",
       "      <th>Fandango_Stars</th>\n",
       "      <td>5.0</td>\n",
       "      <td>5.0</td>\n",
       "      <td>5.0</td>\n",
       "      <td>5.0</td>\n",
       "      <td>3.5</td>\n",
       "    </tr>\n",
       "    <tr>\n",
       "      <th>Fandango_Ratingvalue</th>\n",
       "      <td>4.5</td>\n",
       "      <td>4.5</td>\n",
       "      <td>4.5</td>\n",
       "      <td>4.5</td>\n",
       "      <td>3.0</td>\n",
       "    </tr>\n",
       "    <tr>\n",
       "      <th>RT_norm</th>\n",
       "      <td>3.7</td>\n",
       "      <td>4.25</td>\n",
       "      <td>4.0</td>\n",
       "      <td>0.9</td>\n",
       "      <td>0.7</td>\n",
       "    </tr>\n",
       "    <tr>\n",
       "      <th>RT_user_norm</th>\n",
       "      <td>4.3</td>\n",
       "      <td>4.0</td>\n",
       "      <td>4.5</td>\n",
       "      <td>4.2</td>\n",
       "      <td>1.4</td>\n",
       "    </tr>\n",
       "    <tr>\n",
       "      <th>Metacritic_norm</th>\n",
       "      <td>3.3</td>\n",
       "      <td>3.35</td>\n",
       "      <td>3.2</td>\n",
       "      <td>1.1</td>\n",
       "      <td>1.45</td>\n",
       "    </tr>\n",
       "    <tr>\n",
       "      <th>Metacritic_user_nom</th>\n",
       "      <td>3.55</td>\n",
       "      <td>3.75</td>\n",
       "      <td>4.05</td>\n",
       "      <td>2.35</td>\n",
       "      <td>1.7</td>\n",
       "    </tr>\n",
       "    <tr>\n",
       "      <th>IMDB_norm</th>\n",
       "      <td>3.9</td>\n",
       "      <td>3.55</td>\n",
       "      <td>3.9</td>\n",
       "      <td>2.7</td>\n",
       "      <td>2.55</td>\n",
       "    </tr>\n",
       "    <tr>\n",
       "      <th>RT_norm_round</th>\n",
       "      <td>3.5</td>\n",
       "      <td>4.5</td>\n",
       "      <td>4.0</td>\n",
       "      <td>1.0</td>\n",
       "      <td>0.5</td>\n",
       "    </tr>\n",
       "    <tr>\n",
       "      <th>RT_user_norm_round</th>\n",
       "      <td>4.5</td>\n",
       "      <td>4.0</td>\n",
       "      <td>4.5</td>\n",
       "      <td>4.0</td>\n",
       "      <td>1.5</td>\n",
       "    </tr>\n",
       "    <tr>\n",
       "      <th>Metacritic_norm_round</th>\n",
       "      <td>3.5</td>\n",
       "      <td>3.5</td>\n",
       "      <td>3.0</td>\n",
       "      <td>1.0</td>\n",
       "      <td>1.5</td>\n",
       "    </tr>\n",
       "    <tr>\n",
       "      <th>Metacritic_user_norm_round</th>\n",
       "      <td>3.5</td>\n",
       "      <td>4.0</td>\n",
       "      <td>4.0</td>\n",
       "      <td>2.5</td>\n",
       "      <td>1.5</td>\n",
       "    </tr>\n",
       "    <tr>\n",
       "      <th>IMDB_norm_round</th>\n",
       "      <td>4.0</td>\n",
       "      <td>3.5</td>\n",
       "      <td>4.0</td>\n",
       "      <td>2.5</td>\n",
       "      <td>2.5</td>\n",
       "    </tr>\n",
       "    <tr>\n",
       "      <th>Metacritic_user_vote_count</th>\n",
       "      <td>1330</td>\n",
       "      <td>249</td>\n",
       "      <td>627</td>\n",
       "      <td>31</td>\n",
       "      <td>88</td>\n",
       "    </tr>\n",
       "    <tr>\n",
       "      <th>IMDB_user_vote_count</th>\n",
       "      <td>271107</td>\n",
       "      <td>65709</td>\n",
       "      <td>103660</td>\n",
       "      <td>3136</td>\n",
       "      <td>19560</td>\n",
       "    </tr>\n",
       "    <tr>\n",
       "      <th>Fandango_votes</th>\n",
       "      <td>14846</td>\n",
       "      <td>12640</td>\n",
       "      <td>12055</td>\n",
       "      <td>1793</td>\n",
       "      <td>1021</td>\n",
       "    </tr>\n",
       "    <tr>\n",
       "      <th>Fandango_Difference</th>\n",
       "      <td>0.5</td>\n",
       "      <td>0.5</td>\n",
       "      <td>0.5</td>\n",
       "      <td>0.5</td>\n",
       "      <td>0.5</td>\n",
       "    </tr>\n",
       "  </tbody>\n",
       "</table>\n",
       "</div>"
      ],
      "text/plain": [
       "                                                         0                  1  \\\n",
       "FILM                        Avengers: Age of Ultron (2015)  Cinderella (2015)   \n",
       "RottenTomatoes                                          74                 85   \n",
       "RottenTomatoes_User                                     86                 80   \n",
       "Metacritic                                              66                 67   \n",
       "Metacritic_User                                        7.1                7.5   \n",
       "IMDB                                                   7.8                7.1   \n",
       "Fandango_Stars                                         5.0                5.0   \n",
       "Fandango_Ratingvalue                                   4.5                4.5   \n",
       "RT_norm                                                3.7               4.25   \n",
       "RT_user_norm                                           4.3                4.0   \n",
       "Metacritic_norm                                        3.3               3.35   \n",
       "Metacritic_user_nom                                   3.55               3.75   \n",
       "IMDB_norm                                              3.9               3.55   \n",
       "RT_norm_round                                          3.5                4.5   \n",
       "RT_user_norm_round                                     4.5                4.0   \n",
       "Metacritic_norm_round                                  3.5                3.5   \n",
       "Metacritic_user_norm_round                             3.5                4.0   \n",
       "IMDB_norm_round                                        4.0                3.5   \n",
       "Metacritic_user_vote_count                            1330                249   \n",
       "IMDB_user_vote_count                                271107              65709   \n",
       "Fandango_votes                                       14846              12640   \n",
       "Fandango_Difference                                    0.5                0.5   \n",
       "\n",
       "                                         2                       3  \\\n",
       "FILM                        Ant-Man (2015)  Do You Believe? (2015)   \n",
       "RottenTomatoes                          80                      18   \n",
       "RottenTomatoes_User                     90                      84   \n",
       "Metacritic                              64                      22   \n",
       "Metacritic_User                        8.1                     4.7   \n",
       "IMDB                                   7.8                     5.4   \n",
       "Fandango_Stars                         5.0                     5.0   \n",
       "Fandango_Ratingvalue                   4.5                     4.5   \n",
       "RT_norm                                4.0                     0.9   \n",
       "RT_user_norm                           4.5                     4.2   \n",
       "Metacritic_norm                        3.2                     1.1   \n",
       "Metacritic_user_nom                   4.05                    2.35   \n",
       "IMDB_norm                              3.9                     2.7   \n",
       "RT_norm_round                          4.0                     1.0   \n",
       "RT_user_norm_round                     4.5                     4.0   \n",
       "Metacritic_norm_round                  3.0                     1.0   \n",
       "Metacritic_user_norm_round             4.0                     2.5   \n",
       "IMDB_norm_round                        4.0                     2.5   \n",
       "Metacritic_user_vote_count             627                      31   \n",
       "IMDB_user_vote_count                103660                    3136   \n",
       "Fandango_votes                       12055                    1793   \n",
       "Fandango_Difference                    0.5                     0.5   \n",
       "\n",
       "                                                        4  \n",
       "FILM                        Hot Tub Time Machine 2 (2015)  \n",
       "RottenTomatoes                                         14  \n",
       "RottenTomatoes_User                                    28  \n",
       "Metacritic                                             29  \n",
       "Metacritic_User                                       3.4  \n",
       "IMDB                                                  5.1  \n",
       "Fandango_Stars                                        3.5  \n",
       "Fandango_Ratingvalue                                  3.0  \n",
       "RT_norm                                               0.7  \n",
       "RT_user_norm                                          1.4  \n",
       "Metacritic_norm                                      1.45  \n",
       "Metacritic_user_nom                                   1.7  \n",
       "IMDB_norm                                            2.55  \n",
       "RT_norm_round                                         0.5  \n",
       "RT_user_norm_round                                    1.5  \n",
       "Metacritic_norm_round                                 1.5  \n",
       "Metacritic_user_norm_round                            1.5  \n",
       "IMDB_norm_round                                       2.5  \n",
       "Metacritic_user_vote_count                             88  \n",
       "IMDB_user_vote_count                                19560  \n",
       "Fandango_votes                                       1021  \n",
       "Fandango_Difference                                   0.5  "
      ]
     },
     "execution_count": 3,
     "metadata": {},
     "output_type": "execute_result"
    }
   ],
   "source": [
    "df.head().T"
   ]
  },
  {
   "cell_type": "markdown",
   "metadata": {},
   "source": [
    "El mecanismo más sencillo para hacer una gráfica de barras es usando `plot.bar()`"
   ]
  },
  {
   "cell_type": "code",
   "execution_count": 4,
   "metadata": {},
   "outputs": [
    {
     "data": {
      "text/plain": [
       "<AxesSubplot:>"
      ]
     },
     "execution_count": 4,
     "metadata": {},
     "output_type": "execute_result"
    },
    {
     "data": {
      "image/png": "[encoded data removed]",
      "text/plain": [
       "<Figure size 432x288 with 1 Axes>"
      ]
     },
     "metadata": {
      "needs_background": "light"
     },
     "output_type": "display_data"
    }
   ],
   "source": [
    "df.head().plot.bar()"
   ]
  },
  {
   "cell_type": "markdown",
   "metadata": {},
   "source": [
    "Como se puede ver, se crea una gráfica de barras, matplotlib intenta adivinar que queremos hacer, pero como no resultó muy buena la adivinanza, tenemos que poner alungos parámetros, con `x=` ponemos la etiqueta por cada película, y con `y=` podemos decirle qué columna es la que queremos graficar."
   ]
  },
  {
   "cell_type": "code",
   "execution_count": 5,
   "metadata": {},
   "outputs": [
    {
     "data": {
      "text/plain": [
       "<AxesSubplot:xlabel='FILM'>"
      ]
     },
     "execution_count": 5,
     "metadata": {},
     "output_type": "execute_result"
    },
    {
     "data": {
      "image/png": "[encoded data removed]",
      "text/plain": [
       "<Figure size 432x288 with 1 Axes>"
      ]
     },
     "metadata": {
      "needs_background": "light"
     },
     "output_type": "display_data"
    }
   ],
   "source": [
    "df.head().plot.bar(x='FILM', y='IMDB_norm')"
   ]
  },
  {
   "cell_type": "markdown",
   "metadata": {},
   "source": [
    "También podemos pasar una lista de las columnas a graficar, como hay un montón de atributos por cada película, pero solo visualizaremos los marcadores (*scores*) normalizados [0..5]:\n",
    "\n",
    "* RT_norm\n",
    "* RT_user_norm\n",
    "* Metacritic_norm\n",
    "* Metacritic_user_norm\n",
    "* IMDB_norm\n",
    "* Fandango_Stars\n",
    "\n",
    "En el caso de Rotten Tomatoes (RT) y Metacritic hay dos marcadores, uno corresponde a los críticos y el otro a los usuarios del sitio.\n",
    "\n",
    "Finalmente usaremos la calificación de estrellas de Fandango, ya que hay una acusación en el artículo de FiveThirtyEight ([Be Suspicious Of Online Movie Ratings, Especially Fandango’s](https://fivethirtyeight.com/features/fandango-movies-ratings/)) que menciona que sus ratings quizás no son tan honestos y están \"sesgados\" por su modelo de negocio.\n",
    "\n",
    "**Nota:** Mucho ojo con el nombre de Metacritic_user_norm, hay un error ortográfico en el nombre de la columna"
   ]
  },
  {
   "cell_type": "code",
   "execution_count": 13,
   "metadata": {},
   "outputs": [],
   "source": [
    "marc = ['RT_norm', 'RT_user_norm', 'Metacritic_norm', 'Metacritic_user_nom', 'IMDB_norm']"
   ]
  },
  {
   "cell_type": "code",
   "execution_count": null,
   "metadata": {
    "scrolled": false
   },
   "outputs": [],
   "source": [
    "df.head().plot.bar(x='FILM', y=marc)"
   ]
  },
  {
   "cell_type": "markdown",
   "metadata": {},
   "source": [
    "También podemos hacer barras horizontales con `barh()`:"
   ]
  },
  {
   "cell_type": "code",
   "execution_count": null,
   "metadata": {},
   "outputs": [],
   "source": [
    "df.head().plot.barh(x='FILM', y=marc)"
   ]
  },
  {
   "cell_type": "markdown",
   "metadata": {},
   "source": [
    "Se puede cambiar el color de las barras asignando un color por cada una, con el parámetro `color=[]`, y el ancho de las mismas con el parámetro `width=` que toma valores de 0 a 1, donde 1 indica que se debe llenar todo el ancho disponible para las barras, creando una visualización bastante confusa."
   ]
  },
  {
   "cell_type": "code",
   "execution_count": null,
   "metadata": {
    "scrolled": false
   },
   "outputs": [],
   "source": [
    "df.head().plot.bar(x='FILM', y=marc, \n",
    "                   color=['r','yellow','k','b','orange'],\n",
    "                   width=0.9\n",
    "                  )"
   ]
  },
  {
   "cell_type": "markdown",
   "metadata": {},
   "source": [
    "## Barras Apiladas\n",
    "\n",
    "Si quisieramos ver valores que no están compitiendo entre ellos, sino que forman parte de un todo, por ejemplo el número total de votos a lo largo de los diferentes sitios de críticas, podemos utilizar el parámetro `stacked=True`"
   ]
  },
  {
   "cell_type": "code",
   "execution_count": 12,
   "metadata": {},
   "outputs": [],
   "source": [
    "votos = ['Metacritic_user_vote_count', 'IMDB_user_vote_count', 'Fandango_votes']"
   ]
  },
  {
   "cell_type": "code",
   "execution_count": null,
   "metadata": {},
   "outputs": [],
   "source": [
    "df.head().plot.bar(x='FILM', y=votos)"
   ]
  },
  {
   "cell_type": "code",
   "execution_count": null,
   "metadata": {},
   "outputs": [],
   "source": [
    "df.head().plot.bar(x='FILM', y=votos, stacked=True)"
   ]
  },
  {
   "cell_type": "markdown",
   "metadata": {},
   "source": [
    "## Scatter (X-Y)\n",
    "\n",
    "Comparemos las calificaciones que dan los usuarios en Rotten Tomatoes contra las que dan los críticos ¿serán parecidas?"
   ]
  },
  {
   "cell_type": "code",
   "execution_count": 5,
   "metadata": {
    "scrolled": true
   },
   "outputs": [
    {
     "data": {
      "text/plain": [
       "[<matplotlib.lines.Line2D at 0x1e2423e1d60>]"
      ]
     },
     "execution_count": 5,
     "metadata": {},
     "output_type": "execute_result"
    },
    {
     "data": {
      "image/png": "[encoded data removed]",
      "text/plain": [
       "<Figure size 432x288 with 1 Axes>"
      ]
     },
     "metadata": {
      "needs_background": "light"
     },
     "output_type": "display_data"
    }
   ],
   "source": [
    "df.plot.scatter(x='RT_norm', y='RT_user_norm')\n",
    "plt.plot((0, 5), (0, 5), 'r:')"
   ]
  },
  {
   "cell_type": "markdown",
   "metadata": {},
   "source": [
    "Esta gráfica muestra que no hay una relación 1:1, \n",
    "\n",
    "* Cuando los críticos le han dado una calificación muy baja a una película (<=1) los usuarios la han calificado entre 1 y 3\n",
    "* Cuando los críticos han dado una calificación de 5, los usuarios dan una calificación de entre 3.5 y 4\n",
    "\n",
    "¿Pasará lo mismo con MetaCritic?"
   ]
  },
  {
   "cell_type": "code",
   "execution_count": 6,
   "metadata": {
    "scrolled": true
   },
   "outputs": [
    {
     "data": {
      "text/plain": [
       "[<matplotlib.lines.Line2D at 0x1e2424d87f0>]"
      ]
     },
     "execution_count": 6,
     "metadata": {},
     "output_type": "execute_result"
    },
    {
     "data": {
      "image/png": "[encoded data removed]",
      "text/plain": [
       "<Figure size 432x288 with 1 Axes>"
      ]
     },
     "metadata": {
      "needs_background": "light"
     },
     "output_type": "display_data"
    }
   ],
   "source": [
    "df.plot.scatter(x='Metacritic_norm', y='Metacritic_user_nom')\n",
    "plt.plot((0, 5), (0, 5), 'r:')"
   ]
  },
  {
   "cell_type": "markdown",
   "metadata": {},
   "source": [
    "Podemos hacer dos gráficas en la misma visualización:"
   ]
  },
  {
   "cell_type": "code",
   "execution_count": 11,
   "metadata": {},
   "outputs": [
    {
     "data": {
      "text/plain": [
       "[<matplotlib.lines.Line2D at 0x1e2427e9a90>]"
      ]
     },
     "execution_count": 11,
     "metadata": {},
     "output_type": "execute_result"
    },
    {
     "data": {
      "image/png": "[encoded data removed]",
      "text/plain": [
       "<Figure size 720x432 with 1 Axes>"
      ]
     },
     "metadata": {
      "needs_background": "light"
     },
     "output_type": "display_data"
    }
   ],
   "source": [
    "plt.figure(figsize=(10,6))\n",
    "plt.scatter(x=df.RT_norm, y=df.RT_user_norm, c='orange', label='RT', marker='^')\n",
    "plt.scatter(x=df.Metacritic_norm, y=df.Metacritic_user_nom, c='k', label='Meta', marker='v')\n",
    "plt.legend(loc='best')\n",
    "plt.xlabel('Expertos')\n",
    "plt.ylabel('Usuarios')\n",
    "plt.title('Comparación de las calificaciones de\\nExpertos vs. Usuarios')\n",
    "plt.plot((0, 5), (0, 5), 'r:', lw=2)"
   ]
  },
  {
   "cell_type": "markdown",
   "metadata": {},
   "source": [
    "## Histogramas\n"
   ]
  },
  {
   "cell_type": "code",
   "execution_count": 4,
   "metadata": {},
   "outputs": [
    {
     "data": {
      "text/plain": [
       "<AxesSubplot:ylabel='Frequency'>"
      ]
     },
     "execution_count": 4,
     "metadata": {},
     "output_type": "execute_result"
    },
    {
     "data": {
      "image/png": "[encoded data removed]",
      "text/plain": [
       "<Figure size 432x288 with 1 Axes>"
      ]
     },
     "metadata": {
      "needs_background": "light"
     },
     "output_type": "display_data"
    }
   ],
   "source": [
    "df.plot.hist(y='RT_norm')"
   ]
  },
  {
   "cell_type": "code",
   "execution_count": null,
   "metadata": {
    "scrolled": true
   },
   "outputs": [],
   "source": [
    "df.plot.hist(y='RT_norm', bins=20)"
   ]
  },
  {
   "cell_type": "markdown",
   "metadata": {},
   "source": [
    "También podemos comparar dos series, como las calificaciones que dan los críticos contra la de los usuarios"
   ]
  },
  {
   "cell_type": "code",
   "execution_count": null,
   "metadata": {},
   "outputs": [],
   "source": [
    "df.plot.hist(y=['RT_norm', 'RT_user_norm'])"
   ]
  },
  {
   "cell_type": "markdown",
   "metadata": {},
   "source": [
    "Sin embargo uno de los histogramas está encima del otro, y no deja ver lo que está detrás, hay varias opciones"
   ]
  },
  {
   "cell_type": "code",
   "execution_count": null,
   "metadata": {},
   "outputs": [],
   "source": [
    "df.plot.hist(y=['RT_norm', 'RT_user_norm'], alpha=0.5)"
   ]
  },
  {
   "cell_type": "code",
   "execution_count": 9,
   "metadata": {},
   "outputs": [
    {
     "data": {
      "text/plain": [
       "Text(0, 0.5, 'Cantidad')"
      ]
     },
     "execution_count": 9,
     "metadata": {},
     "output_type": "execute_result"
    },
    {
     "data": {
      "image/png": "[encoded data removed]",
      "text/plain": [
       "<Figure size 720x288 with 2 Axes>"
      ]
     },
     "metadata": {
      "needs_background": "light"
     },
     "output_type": "display_data"
    }
   ],
   "source": [
    "plt.figure(figsize=(10,4))\n",
    "plt.subplot(121)\n",
    "plt.hist(x=df.RT_norm, bins=10)\n",
    "plt.title('Calificaciones de Expertos en RT')\n",
    "plt.xlabel('Calificación')\n",
    "plt.ylabel('Cantidad')\n",
    "\n",
    "plt.subplot(122)\n",
    "plt.hist(x=df.RT_user_norm, bins=10)\n",
    "plt.title('Calificaciones de Usuarios en RT')\n",
    "plt.xlabel('Calificación')\n",
    "plt.ylabel('Cantidad')"
   ]
  },
  {
   "cell_type": "markdown",
   "metadata": {},
   "source": [
    "## Boxplots\n",
    "\n",
    "Empezamos viendo la distribución de las calificaciones para los críticos de Rotten Tomatoes\n",
    "\n",
    "¿Cómo leer una gráfica de Boxplot o Box and Whiskers? \n",
    "([Video en Khan Academy](https://www.khanacademy.org/math/ap-statistics/summarizing-quantitative-data-ap/stats-box-whisker-plots/v/reading-box-and-whisker-plots))"
   ]
  },
  {
   "cell_type": "code",
   "execution_count": 7,
   "metadata": {},
   "outputs": [
    {
     "data": {
      "text/plain": [
       "(0.0, 5.5)"
      ]
     },
     "execution_count": 7,
     "metadata": {},
     "output_type": "execute_result"
    },
    {
     "data": {
      "image/png": "[encoded data removed]",
      "text/plain": [
       "<Figure size 432x288 with 1 Axes>"
      ]
     },
     "metadata": {
      "needs_background": "light"
     },
     "output_type": "display_data"
    }
   ],
   "source": [
    "df.boxplot(column='RT_norm')\n",
    "plt.ylim(0,5.5)"
   ]
  },
  {
   "cell_type": "markdown",
   "metadata": {},
   "source": [
    "Cuando le indicamos una lista en la columna, podemos ver la distribución de diferentes columnas"
   ]
  },
  {
   "cell_type": "code",
   "execution_count": 15,
   "metadata": {},
   "outputs": [
    {
     "data": {
      "text/plain": [
       "(0.0, 5.5)"
      ]
     },
     "execution_count": 15,
     "metadata": {},
     "output_type": "execute_result"
    },
    {
     "data": {
      "image/png": "[encoded data removed]",
      "text/plain": [
       "<Figure size 432x288 with 1 Axes>"
      ]
     },
     "metadata": {
      "needs_background": "light"
     },
     "output_type": "display_data"
    }
   ],
   "source": [
    "df.boxplot(column=marc, rot=0, vert=False)\n",
    "plt.ylim(0, 5.5)"
   ]
  },
  {
   "cell_type": "markdown",
   "metadata": {},
   "source": [
    "En el gráfico también podemos ver la media (el promedio) de las calificaciones"
   ]
  },
  {
   "cell_type": "code",
   "execution_count": 14,
   "metadata": {
    "scrolled": true
   },
   "outputs": [
    {
     "data": {
      "text/plain": [
       "(0.0, 5.5)"
      ]
     },
     "execution_count": 14,
     "metadata": {},
     "output_type": "execute_result"
    },
    {
     "data": {
      "image/png": "[encoded data removed]",
      "text/plain": [
       "<Figure size 432x288 with 1 Axes>"
      ]
     },
     "metadata": {
      "needs_background": "light"
     },
     "output_type": "display_data"
    }
   ],
   "source": [
    "# Propiedades personalizadas para los marcadores de la media\n",
    "#\n",
    "estrella_roja={'markerfacecolor': 'r', \n",
    "               'markeredgecolor': 'r', \n",
    "               'marker': '*'\n",
    "              }\n",
    "df.boxplot(column=marc, vert=False, showmeans=True, meanprops=estrella_roja)\n",
    "plt.ylim(0, 5.5)"
   ]
  },
  {
   "cell_type": "markdown",
   "metadata": {},
   "source": [
    "## Embelleciendo los gráficos\n",
    "\n",
    "matplotlib incluye \"hojas de estilos\", que se utilizan para cambiar la apariencia de un gráfico, para verlas, se usa `plt.style.available`"
   ]
  },
  {
   "cell_type": "code",
   "execution_count": 16,
   "metadata": {},
   "outputs": [
    {
     "data": {
      "text/plain": [
       "['Solarize_Light2',\n",
       " '_classic_test_patch',\n",
       " 'bmh',\n",
       " 'classic',\n",
       " 'dark_background',\n",
       " 'fast',\n",
       " 'fivethirtyeight',\n",
       " 'ggplot',\n",
       " 'grayscale',\n",
       " 'seaborn',\n",
       " 'seaborn-bright',\n",
       " 'seaborn-colorblind',\n",
       " 'seaborn-dark',\n",
       " 'seaborn-dark-palette',\n",
       " 'seaborn-darkgrid',\n",
       " 'seaborn-deep',\n",
       " 'seaborn-muted',\n",
       " 'seaborn-notebook',\n",
       " 'seaborn-paper',\n",
       " 'seaborn-pastel',\n",
       " 'seaborn-poster',\n",
       " 'seaborn-talk',\n",
       " 'seaborn-ticks',\n",
       " 'seaborn-white',\n",
       " 'seaborn-whitegrid',\n",
       " 'tableau-colorblind10']"
      ]
     },
     "execution_count": 16,
     "metadata": {},
     "output_type": "execute_result"
    }
   ],
   "source": [
    "plt.style.available"
   ]
  },
  {
   "cell_type": "code",
   "execution_count": 17,
   "metadata": {},
   "outputs": [
    {
     "data": {
      "text/plain": [
       "<AxesSubplot:xlabel='FILM'>"
      ]
     },
     "execution_count": 17,
     "metadata": {},
     "output_type": "execute_result"
    },
    {
     "data": {
      "image/png": "[encoded data removed]",
      "text/plain": [
       "<Figure size 432x288 with 1 Axes>"
      ]
     },
     "metadata": {
      "needs_background": "light"
     },
     "output_type": "display_data"
    }
   ],
   "source": [
    "df.head().plot.bar(x='FILM', y=marc)"
   ]
  },
  {
   "cell_type": "code",
   "execution_count": null,
   "metadata": {},
   "outputs": [],
   "source": [
    "plt.style.use('ggplot')\n",
    "df.head().plot.bar(x='FILM', y=marc)"
   ]
  },
  {
   "cell_type": "code",
   "execution_count": 18,
   "metadata": {},
   "outputs": [
    {
     "data": {
      "text/plain": [
       "<AxesSubplot:xlabel='FILM'>"
      ]
     },
     "execution_count": 18,
     "metadata": {},
     "output_type": "execute_result"
    },
    {
     "data": {
      "image/png": "[encoded data removed]",
      "text/plain": [
       "<Figure size 432x288 with 1 Axes>"
      ]
     },
     "metadata": {},
     "output_type": "display_data"
    }
   ],
   "source": [
    "plt.style.use('seaborn-whitegrid')\n",
    "df.head().plot.bar(x='FILM', y=marc)"
   ]
  },
  {
   "cell_type": "markdown",
   "metadata": {},
   "source": [
    "## LaTeX\n",
    "\n",
    "Se puede utilizar el formato de LaTeX para los títulos utilizando la nomenclatura de $"
   ]
  },
  {
   "cell_type": "code",
   "execution_count": 20,
   "metadata": {},
   "outputs": [
    {
     "data": {
      "text/plain": [
       "Text(0.5, 1.0, 'Símbolos de LaTeX: $\\\\frac{\\\\nabla\\\\dot x^2}{\\\\sqrt{y^3 - \\\\frac{a}{b}}}$')"
      ]
     },
     "execution_count": 20,
     "metadata": {},
     "output_type": "execute_result"
    },
    {
     "data": {
      "image/png": "[encoded data removed]",
      "text/plain": [
       "<Figure size 432x288 with 1 Axes>"
      ]
     },
     "metadata": {},
     "output_type": "display_data"
    }
   ],
   "source": [
    "df.head().plot.bar(x='FILM', y=marc)\n",
    "plt.title(r'Símbolos de LaTeX: $\\frac{\\nabla\\dot x^2}{\\sqrt{y^3 - \\frac{a}{b}}}$')"
   ]
  },
  {
   "cell_type": "markdown",
   "metadata": {},
   "source": [
    "## Fuentes\n",
    "\n",
    "Se utiliza `rcParams` para acceder a todos los parámetros de configuración de matplotlib\n"
   ]
  },
  {
   "cell_type": "code",
   "execution_count": 21,
   "metadata": {},
   "outputs": [
    {
     "data": {
      "text/plain": [
       "<matplotlib.legend.Legend at 0x1e243c2c0a0>"
      ]
     },
     "execution_count": 21,
     "metadata": {},
     "output_type": "execute_result"
    },
    {
     "data": {
      "image/png": "[encoded data removed]",
      "text/plain": [
       "<Figure size 432x288 with 1 Axes>"
      ]
     },
     "metadata": {},
     "output_type": "display_data"
    }
   ],
   "source": [
    "plt.rcParams['font.size'] = 18\n",
    "df.head().plot.bar(x='FILM', y=marc)\n",
    "plt.title('Título de la Gráfica')\n",
    "plt.xlabel('Películas')\n",
    "plt.ylabel('Calificaciones')\n",
    "plt.legend(loc='lower center')"
   ]
  },
  {
   "cell_type": "markdown",
   "metadata": {},
   "source": [
    "## Anotaciones y layouts\n",
    "\n",
    "Vamos a separar la comparación que hicimos entre las calificaciones de expertos vs. usuarios en cuatro cuadrantes, que nos dirán:\n",
    "\n",
    "* Las películas que les gustan a los usuarios, pero no a los críticos\n",
    "* Las películas que les gustan a ambos\n",
    "* Las películas que no les gustan a ninguno\n",
    "* Las películas que les gustan a los críticos pero no a los usuarios\n",
    "\n",
    "Adicionalmente pondremos títulos para identificar cada cuadrante"
   ]
  },
  {
   "cell_type": "code",
   "execution_count": 22,
   "metadata": {},
   "outputs": [
    {
     "data": {
      "text/plain": [
       "Text(0, 0, 'Churros')"
      ]
     },
     "execution_count": 22,
     "metadata": {},
     "output_type": "execute_result"
    },
    {
     "data": {
      "image/png": "[encoded data removed]",
      "text/plain": [
       "<Figure size 720x432 with 1 Axes>"
      ]
     },
     "metadata": {},
     "output_type": "display_data"
    }
   ],
   "source": [
    "plt.style.use('ggplot')\n",
    "\n",
    "plt.figure(figsize=(10,6))\n",
    "plt.scatter(x=df.Metacritic_norm, y=df.Metacritic_user_nom, c='orange', label='Meta', marker='v')\n",
    "\n",
    "plt.xlabel('Expertos')\n",
    "plt.ylabel('Usuarios')\n",
    "plt.title('Comparación de las calificaciones de\\nExpertos vs. Usuarios en Metacritic')\n",
    "plt.plot((0, 5), (0, 5), 'r:', lw=2)\n",
    "\n",
    "plt.axhline(2.5, color='k')\n",
    "plt.axvline(2.5, color='k')\n",
    "plt.text(0, 5, 'Palomeras',  verticalalignment='top')\n",
    "plt.text(5, 5, 'Favoritas',  verticalalignment='top', horizontalalignment='right')\n",
    "plt.text(5, 0, 'Snobísimas', horizontalalignment='right')\n",
    "plt.text(0, 0, 'Churros')"
   ]
  },
  {
   "cell_type": "markdown",
   "metadata": {},
   "source": [
    "Finalmente hagamos una anotación sobre esa película que resulta ser la favorita de los críticos, pero a la gente no le gustó tanto (en el cuadrante Snobísimas), podríamos hacerlo programáticamente, pero vamos a hacerlo de forma manual. Es fácil identificar esta película porque está entre 2.5 y 3 de calificación entre los expertos y entre 2 y 2.5 de los usuarios:"
   ]
  },
  {
   "cell_type": "code",
   "execution_count": 23,
   "metadata": {},
   "outputs": [
    {
     "data": {
      "text/html": [
       "<div>\n",
       "<style scoped>\n",
       "    .dataframe tbody tr th:only-of-type {\n",
       "        vertical-align: middle;\n",
       "    }\n",
       "\n",
       "    .dataframe tbody tr th {\n",
       "        vertical-align: top;\n",
       "    }\n",
       "\n",
       "    .dataframe thead th {\n",
       "        text-align: right;\n",
       "    }\n",
       "</style>\n",
       "<table border=\"1\" class=\"dataframe\">\n",
       "  <thead>\n",
       "    <tr style=\"text-align: right;\">\n",
       "      <th></th>\n",
       "      <th>109</th>\n",
       "    </tr>\n",
       "  </thead>\n",
       "  <tbody>\n",
       "    <tr>\n",
       "      <th>FILM</th>\n",
       "      <td>The 100-Year-Old Man Who Climbed Out the Windo...</td>\n",
       "    </tr>\n",
       "    <tr>\n",
       "      <th>RottenTomatoes</th>\n",
       "      <td>67</td>\n",
       "    </tr>\n",
       "    <tr>\n",
       "      <th>RottenTomatoes_User</th>\n",
       "      <td>69</td>\n",
       "    </tr>\n",
       "    <tr>\n",
       "      <th>Metacritic</th>\n",
       "      <td>58</td>\n",
       "    </tr>\n",
       "    <tr>\n",
       "      <th>Metacritic_User</th>\n",
       "      <td>4.6</td>\n",
       "    </tr>\n",
       "    <tr>\n",
       "      <th>IMDB</th>\n",
       "      <td>7.1</td>\n",
       "    </tr>\n",
       "    <tr>\n",
       "      <th>Fandango_Stars</th>\n",
       "      <td>4.0</td>\n",
       "    </tr>\n",
       "    <tr>\n",
       "      <th>Fandango_Ratingvalue</th>\n",
       "      <td>3.9</td>\n",
       "    </tr>\n",
       "    <tr>\n",
       "      <th>RT_norm</th>\n",
       "      <td>3.35</td>\n",
       "    </tr>\n",
       "    <tr>\n",
       "      <th>RT_user_norm</th>\n",
       "      <td>3.45</td>\n",
       "    </tr>\n",
       "    <tr>\n",
       "      <th>Metacritic_norm</th>\n",
       "      <td>2.9</td>\n",
       "    </tr>\n",
       "    <tr>\n",
       "      <th>Metacritic_user_nom</th>\n",
       "      <td>2.3</td>\n",
       "    </tr>\n",
       "    <tr>\n",
       "      <th>IMDB_norm</th>\n",
       "      <td>3.55</td>\n",
       "    </tr>\n",
       "    <tr>\n",
       "      <th>RT_norm_round</th>\n",
       "      <td>3.5</td>\n",
       "    </tr>\n",
       "    <tr>\n",
       "      <th>RT_user_norm_round</th>\n",
       "      <td>3.5</td>\n",
       "    </tr>\n",
       "    <tr>\n",
       "      <th>Metacritic_norm_round</th>\n",
       "      <td>3.0</td>\n",
       "    </tr>\n",
       "    <tr>\n",
       "      <th>Metacritic_user_norm_round</th>\n",
       "      <td>2.5</td>\n",
       "    </tr>\n",
       "    <tr>\n",
       "      <th>IMDB_norm_round</th>\n",
       "      <td>3.5</td>\n",
       "    </tr>\n",
       "    <tr>\n",
       "      <th>Metacritic_user_vote_count</th>\n",
       "      <td>5</td>\n",
       "    </tr>\n",
       "    <tr>\n",
       "      <th>IMDB_user_vote_count</th>\n",
       "      <td>17237</td>\n",
       "    </tr>\n",
       "    <tr>\n",
       "      <th>Fandango_votes</th>\n",
       "      <td>63</td>\n",
       "    </tr>\n",
       "    <tr>\n",
       "      <th>Fandango_Difference</th>\n",
       "      <td>0.1</td>\n",
       "    </tr>\n",
       "  </tbody>\n",
       "</table>\n",
       "</div>"
      ],
      "text/plain": [
       "                                                                          109\n",
       "FILM                        The 100-Year-Old Man Who Climbed Out the Windo...\n",
       "RottenTomatoes                                                             67\n",
       "RottenTomatoes_User                                                        69\n",
       "Metacritic                                                                 58\n",
       "Metacritic_User                                                           4.6\n",
       "IMDB                                                                      7.1\n",
       "Fandango_Stars                                                            4.0\n",
       "Fandango_Ratingvalue                                                      3.9\n",
       "RT_norm                                                                  3.35\n",
       "RT_user_norm                                                             3.45\n",
       "Metacritic_norm                                                           2.9\n",
       "Metacritic_user_nom                                                       2.3\n",
       "IMDB_norm                                                                3.55\n",
       "RT_norm_round                                                             3.5\n",
       "RT_user_norm_round                                                        3.5\n",
       "Metacritic_norm_round                                                     3.0\n",
       "Metacritic_user_norm_round                                                2.5\n",
       "IMDB_norm_round                                                           3.5\n",
       "Metacritic_user_vote_count                                                  5\n",
       "IMDB_user_vote_count                                                    17237\n",
       "Fandango_votes                                                             63\n",
       "Fandango_Difference                                                       0.1"
      ]
     },
     "execution_count": 23,
     "metadata": {},
     "output_type": "execute_result"
    }
   ],
   "source": [
    "df[(df.Metacritic_norm < 3) & (df.Metacritic_norm > 2.5) & (df.Metacritic_user_nom < 2.5)].T"
   ]
  },
  {
   "cell_type": "markdown",
   "metadata": {},
   "source": [
    "Por los datos anteriores sabemos que la película se encuntra ubicada en las coordenadas (2.9, 2.3), así que usaremos esa información para hacer la anotación"
   ]
  },
  {
   "cell_type": "code",
   "execution_count": null,
   "metadata": {
    "scrolled": false
   },
   "outputs": [],
   "source": [
    "plt.figure(figsize=(6,6))\n",
    "plt.scatter(x=df.Metacritic_norm, y=df.Metacritic_user_nom, c='orange', label='Meta', marker='v')\n",
    "\n",
    "plt.xlabel('Expertos')\n",
    "plt.ylabel('Usuarios')\n",
    "plt.title('Comparación de las calificaciones de\\nExpertos vs. Usuarios en Metacritic')\n",
    "plt.plot((0, 5), (0, 5), 'r:', lw=2)\n",
    "\n",
    "plt.axhline(2.5, color='k')\n",
    "plt.axvline(2.5, color='k')\n",
    "plt.text(0, 5, 'Palomeras',  verticalalignment='top')\n",
    "plt.text(5, 5, 'Favoritas',  verticalalignment='top', horizontalalignment='right')\n",
    "plt.text(5, 0, 'Snobísimas', horizontalalignment='right')\n",
    "plt.text(0, 0, 'Churros')\n",
    "\n",
    "plt.annotate('The 100-Year-Old Man\\nWho Climbed Out the Window', \n",
    "             xy=(2.9, 2.3), \n",
    "             xytext=(3, 1.2),\n",
    "             arrowprops=dict(facecolor='r', connectionstyle=\"arc3, rad=-0.3\")\n",
    "            )"
   ]
  },
  {
   "cell_type": "code",
   "execution_count": 24,
   "metadata": {},
   "outputs": [
    {
     "data": {
      "text/html": [
       "<div>\n",
       "<style scoped>\n",
       "    .dataframe tbody tr th:only-of-type {\n",
       "        vertical-align: middle;\n",
       "    }\n",
       "\n",
       "    .dataframe tbody tr th {\n",
       "        vertical-align: top;\n",
       "    }\n",
       "\n",
       "    .dataframe thead th {\n",
       "        text-align: right;\n",
       "    }\n",
       "</style>\n",
       "<table border=\"1\" class=\"dataframe\">\n",
       "  <thead>\n",
       "    <tr style=\"text-align: right;\">\n",
       "      <th></th>\n",
       "      <th>42</th>\n",
       "    </tr>\n",
       "  </thead>\n",
       "  <tbody>\n",
       "    <tr>\n",
       "      <th>FILM</th>\n",
       "      <td>About Elly (2015)</td>\n",
       "    </tr>\n",
       "    <tr>\n",
       "      <th>RottenTomatoes</th>\n",
       "      <td>97</td>\n",
       "    </tr>\n",
       "    <tr>\n",
       "      <th>RottenTomatoes_User</th>\n",
       "      <td>86</td>\n",
       "    </tr>\n",
       "    <tr>\n",
       "      <th>Metacritic</th>\n",
       "      <td>87</td>\n",
       "    </tr>\n",
       "    <tr>\n",
       "      <th>Metacritic_User</th>\n",
       "      <td>9.6</td>\n",
       "    </tr>\n",
       "    <tr>\n",
       "      <th>IMDB</th>\n",
       "      <td>8.2</td>\n",
       "    </tr>\n",
       "    <tr>\n",
       "      <th>Fandango_Stars</th>\n",
       "      <td>4.0</td>\n",
       "    </tr>\n",
       "    <tr>\n",
       "      <th>Fandango_Ratingvalue</th>\n",
       "      <td>3.6</td>\n",
       "    </tr>\n",
       "    <tr>\n",
       "      <th>RT_norm</th>\n",
       "      <td>4.85</td>\n",
       "    </tr>\n",
       "    <tr>\n",
       "      <th>RT_user_norm</th>\n",
       "      <td>4.3</td>\n",
       "    </tr>\n",
       "    <tr>\n",
       "      <th>Metacritic_norm</th>\n",
       "      <td>4.35</td>\n",
       "    </tr>\n",
       "    <tr>\n",
       "      <th>Metacritic_user_nom</th>\n",
       "      <td>4.8</td>\n",
       "    </tr>\n",
       "    <tr>\n",
       "      <th>IMDB_norm</th>\n",
       "      <td>4.1</td>\n",
       "    </tr>\n",
       "    <tr>\n",
       "      <th>RT_norm_round</th>\n",
       "      <td>5.0</td>\n",
       "    </tr>\n",
       "    <tr>\n",
       "      <th>RT_user_norm_round</th>\n",
       "      <td>4.5</td>\n",
       "    </tr>\n",
       "    <tr>\n",
       "      <th>Metacritic_norm_round</th>\n",
       "      <td>4.5</td>\n",
       "    </tr>\n",
       "    <tr>\n",
       "      <th>Metacritic_user_norm_round</th>\n",
       "      <td>5.0</td>\n",
       "    </tr>\n",
       "    <tr>\n",
       "      <th>IMDB_norm_round</th>\n",
       "      <td>4.0</td>\n",
       "    </tr>\n",
       "    <tr>\n",
       "      <th>Metacritic_user_vote_count</th>\n",
       "      <td>23</td>\n",
       "    </tr>\n",
       "    <tr>\n",
       "      <th>IMDB_user_vote_count</th>\n",
       "      <td>20659</td>\n",
       "    </tr>\n",
       "    <tr>\n",
       "      <th>Fandango_votes</th>\n",
       "      <td>43</td>\n",
       "    </tr>\n",
       "    <tr>\n",
       "      <th>Fandango_Difference</th>\n",
       "      <td>0.4</td>\n",
       "    </tr>\n",
       "  </tbody>\n",
       "</table>\n",
       "</div>"
      ],
      "text/plain": [
       "                                           42\n",
       "FILM                        About Elly (2015)\n",
       "RottenTomatoes                             97\n",
       "RottenTomatoes_User                        86\n",
       "Metacritic                                 87\n",
       "Metacritic_User                           9.6\n",
       "IMDB                                      8.2\n",
       "Fandango_Stars                            4.0\n",
       "Fandango_Ratingvalue                      3.6\n",
       "RT_norm                                  4.85\n",
       "RT_user_norm                              4.3\n",
       "Metacritic_norm                          4.35\n",
       "Metacritic_user_nom                       4.8\n",
       "IMDB_norm                                 4.1\n",
       "RT_norm_round                             5.0\n",
       "RT_user_norm_round                        4.5\n",
       "Metacritic_norm_round                     4.5\n",
       "Metacritic_user_norm_round                5.0\n",
       "IMDB_norm_round                           4.0\n",
       "Metacritic_user_vote_count                 23\n",
       "IMDB_user_vote_count                    20659\n",
       "Fandango_votes                             43\n",
       "Fandango_Difference                       0.4"
      ]
     },
     "execution_count": 24,
     "metadata": {},
     "output_type": "execute_result"
    }
   ],
   "source": [
    "df[(df.Metacritic_norm > 4) & (df.Metacritic_user_nom > 4.5)].T"
   ]
  },
  {
   "cell_type": "markdown",
   "metadata": {},
   "source": [
    "## ¿Cuál es la mejor película de acuerdo con los críticos Y el público?\n",
    "\n",
    "¿Cómo podríamos calcular cuál es la mejor o peor película de acuerdo con Rotten Tomatoes, tomando en cuenta a los críticos y a la gente?\n",
    "\n",
    "**Distancia Euclidiana**\n",
    "\n",
    "La peor película sería la que esté más cerca de (0, 0), y lo podemos medir usando la distancia euclidiana:\n",
    "\n",
    "$d = \\sqrt{(criticos - 0)^2 + (publico - 0)^2} $\n",
    "\n",
    "Y la mejor película sería la que tiene menor distancia a (5, 5):\n",
    "\n",
    "$d = \\sqrt{(criticos - 5)^2 + (publico - 5)^2}$\n",
    "\n",
    "Calculemos el índice de snobismo para Metacritic (el que anotamos en el ejemplo)\n",
    "\n",
    "$d = \\sqrt{(criticos - 5)^2 + (publico - 0)^2}$"
   ]
  },
  {
   "cell_type": "code",
   "execution_count": 25,
   "metadata": {},
   "outputs": [],
   "source": [
    "import math"
   ]
  },
  {
   "cell_type": "code",
   "execution_count": 26,
   "metadata": {},
   "outputs": [],
   "source": [
    "df['favoritas'] = df.apply(lambda x: math.sqrt((x.Metacritic_norm - 5 )**2 + (x.Metacritic_user_nom - 5)**2), axis=1)\n",
    "df['esnobismo'] = df.apply(lambda x: math.sqrt((x.Metacritic_norm - 5 )**2 + (x.Metacritic_user_nom - 0)**2), axis=1)\n",
    "df['churros'  ] = df.apply(lambda x: math.sqrt((x.Metacritic_norm - 0 )**2 + (x.Metacritic_user_nom - 0)**2), axis=1)\n",
    "df['palomeras'] = df.apply(lambda x: math.sqrt((x.Metacritic_norm - 0 )**2 + (x.Metacritic_user_nom - 5)**2), axis=1)"
   ]
  },
  {
   "cell_type": "code",
   "execution_count": 27,
   "metadata": {},
   "outputs": [
    {
     "data": {
      "text/html": [
       "<div>\n",
       "<style scoped>\n",
       "    .dataframe tbody tr th:only-of-type {\n",
       "        vertical-align: middle;\n",
       "    }\n",
       "\n",
       "    .dataframe tbody tr th {\n",
       "        vertical-align: top;\n",
       "    }\n",
       "\n",
       "    .dataframe thead th {\n",
       "        text-align: right;\n",
       "    }\n",
       "</style>\n",
       "<table border=\"1\" class=\"dataframe\">\n",
       "  <thead>\n",
       "    <tr style=\"text-align: right;\">\n",
       "      <th></th>\n",
       "      <th>FILM</th>\n",
       "      <th>esnobismo</th>\n",
       "    </tr>\n",
       "  </thead>\n",
       "  <tbody>\n",
       "    <tr>\n",
       "      <th>109</th>\n",
       "      <td>The 100-Year-Old Man Who Climbed Out the Windo...</td>\n",
       "      <td>3.114482</td>\n",
       "    </tr>\n",
       "    <tr>\n",
       "      <th>70</th>\n",
       "      <td>Seymour: An Introduction (2015)</td>\n",
       "      <td>3.118092</td>\n",
       "    </tr>\n",
       "    <tr>\n",
       "      <th>97</th>\n",
       "      <td>Fifty Shades of Grey (2015)</td>\n",
       "      <td>3.138471</td>\n",
       "    </tr>\n",
       "    <tr>\n",
       "      <th>43</th>\n",
       "      <td>The Diary of a Teenage Girl (2015)</td>\n",
       "      <td>3.216364</td>\n",
       "    </tr>\n",
       "    <tr>\n",
       "      <th>79</th>\n",
       "      <td>Poltergeist (2015)</td>\n",
       "      <td>3.231873</td>\n",
       "    </tr>\n",
       "  </tbody>\n",
       "</table>\n",
       "</div>"
      ],
      "text/plain": [
       "                                                  FILM  esnobismo\n",
       "109  The 100-Year-Old Man Who Climbed Out the Windo...   3.114482\n",
       "70                     Seymour: An Introduction (2015)   3.118092\n",
       "97                         Fifty Shades of Grey (2015)   3.138471\n",
       "43                  The Diary of a Teenage Girl (2015)   3.216364\n",
       "79                                  Poltergeist (2015)   3.231873"
      ]
     },
     "execution_count": 27,
     "metadata": {},
     "output_type": "execute_result"
    }
   ],
   "source": [
    "df[['FILM', 'esnobismo']].sort_values(by=\"esnobismo\")[:5]"
   ]
  },
  {
   "cell_type": "code",
   "execution_count": 28,
   "metadata": {},
   "outputs": [
    {
     "data": {
      "text/html": [
       "<div>\n",
       "<style scoped>\n",
       "    .dataframe tbody tr th:only-of-type {\n",
       "        vertical-align: middle;\n",
       "    }\n",
       "\n",
       "    .dataframe tbody tr th {\n",
       "        vertical-align: top;\n",
       "    }\n",
       "\n",
       "    .dataframe thead th {\n",
       "        text-align: right;\n",
       "    }\n",
       "</style>\n",
       "<table border=\"1\" class=\"dataframe\">\n",
       "  <thead>\n",
       "    <tr style=\"text-align: right;\">\n",
       "      <th></th>\n",
       "      <th>FILM</th>\n",
       "      <th>churros</th>\n",
       "    </tr>\n",
       "  </thead>\n",
       "  <tbody>\n",
       "    <tr>\n",
       "      <th>133</th>\n",
       "      <td>Paul Blart: Mall Cop 2 (2015)</td>\n",
       "      <td>1.364734</td>\n",
       "    </tr>\n",
       "    <tr>\n",
       "      <th>35</th>\n",
       "      <td>The Loft (2015)</td>\n",
       "      <td>1.697056</td>\n",
       "    </tr>\n",
       "    <tr>\n",
       "      <th>48</th>\n",
       "      <td>Fantastic Four (2015)</td>\n",
       "      <td>1.839837</td>\n",
       "    </tr>\n",
       "    <tr>\n",
       "      <th>59</th>\n",
       "      <td>Mortdecai (2015)</td>\n",
       "      <td>2.093442</td>\n",
       "    </tr>\n",
       "    <tr>\n",
       "      <th>105</th>\n",
       "      <td>Hitman: Agent 47 (2015)</td>\n",
       "      <td>2.163909</td>\n",
       "    </tr>\n",
       "  </tbody>\n",
       "</table>\n",
       "</div>"
      ],
      "text/plain": [
       "                              FILM   churros\n",
       "133  Paul Blart: Mall Cop 2 (2015)  1.364734\n",
       "35                 The Loft (2015)  1.697056\n",
       "48           Fantastic Four (2015)  1.839837\n",
       "59                Mortdecai (2015)  2.093442\n",
       "105        Hitman: Agent 47 (2015)  2.163909"
      ]
     },
     "execution_count": 28,
     "metadata": {},
     "output_type": "execute_result"
    }
   ],
   "source": [
    "df[['FILM', 'churros']].sort_values(by=\"churros\")[:5]"
   ]
  },
  {
   "cell_type": "code",
   "execution_count": 29,
   "metadata": {
    "scrolled": true
   },
   "outputs": [
    {
     "data": {
      "text/html": [
       "<div>\n",
       "<style scoped>\n",
       "    .dataframe tbody tr th:only-of-type {\n",
       "        vertical-align: middle;\n",
       "    }\n",
       "\n",
       "    .dataframe tbody tr th {\n",
       "        vertical-align: top;\n",
       "    }\n",
       "\n",
       "    .dataframe thead th {\n",
       "        text-align: right;\n",
       "    }\n",
       "</style>\n",
       "<table border=\"1\" class=\"dataframe\">\n",
       "  <thead>\n",
       "    <tr style=\"text-align: right;\">\n",
       "      <th></th>\n",
       "      <th>FILM</th>\n",
       "      <th>palomeras</th>\n",
       "    </tr>\n",
       "  </thead>\n",
       "  <tbody>\n",
       "    <tr>\n",
       "      <th>83</th>\n",
       "      <td>Self/less (2015)</td>\n",
       "      <td>1.878829</td>\n",
       "    </tr>\n",
       "    <tr>\n",
       "      <th>101</th>\n",
       "      <td>The Gallows (2015)</td>\n",
       "      <td>2.121320</td>\n",
       "    </tr>\n",
       "    <tr>\n",
       "      <th>64</th>\n",
       "      <td>Dark Places (2015)</td>\n",
       "      <td>2.214723</td>\n",
       "    </tr>\n",
       "    <tr>\n",
       "      <th>78</th>\n",
       "      <td>Chappie (2015)</td>\n",
       "      <td>2.427447</td>\n",
       "    </tr>\n",
       "    <tr>\n",
       "      <th>55</th>\n",
       "      <td>Black or White (2015)</td>\n",
       "      <td>2.482942</td>\n",
       "    </tr>\n",
       "  </tbody>\n",
       "</table>\n",
       "</div>"
      ],
      "text/plain": [
       "                      FILM  palomeras\n",
       "83        Self/less (2015)   1.878829\n",
       "101     The Gallows (2015)   2.121320\n",
       "64      Dark Places (2015)   2.214723\n",
       "78          Chappie (2015)   2.427447\n",
       "55   Black or White (2015)   2.482942"
      ]
     },
     "execution_count": 29,
     "metadata": {},
     "output_type": "execute_result"
    }
   ],
   "source": [
    "df[['FILM', 'palomeras']].sort_values(by=\"palomeras\")[:5]"
   ]
  },
  {
   "cell_type": "code",
   "execution_count": 30,
   "metadata": {},
   "outputs": [
    {
     "data": {
      "text/html": [
       "<div>\n",
       "<style scoped>\n",
       "    .dataframe tbody tr th:only-of-type {\n",
       "        vertical-align: middle;\n",
       "    }\n",
       "\n",
       "    .dataframe tbody tr th {\n",
       "        vertical-align: top;\n",
       "    }\n",
       "\n",
       "    .dataframe thead th {\n",
       "        text-align: right;\n",
       "    }\n",
       "</style>\n",
       "<table border=\"1\" class=\"dataframe\">\n",
       "  <thead>\n",
       "    <tr style=\"text-align: right;\">\n",
       "      <th></th>\n",
       "      <th>FILM</th>\n",
       "      <th>favoritas</th>\n",
       "    </tr>\n",
       "  </thead>\n",
       "  <tbody>\n",
       "    <tr>\n",
       "      <th>140</th>\n",
       "      <td>Inside Out (2015)</td>\n",
       "      <td>0.626498</td>\n",
       "    </tr>\n",
       "    <tr>\n",
       "      <th>42</th>\n",
       "      <td>About Elly (2015)</td>\n",
       "      <td>0.680074</td>\n",
       "    </tr>\n",
       "    <tr>\n",
       "      <th>143</th>\n",
       "      <td>Two Days, One Night (2014)</td>\n",
       "      <td>0.813941</td>\n",
       "    </tr>\n",
       "    <tr>\n",
       "      <th>88</th>\n",
       "      <td>Mad Max: Fury Road (2015)</td>\n",
       "      <td>0.851469</td>\n",
       "    </tr>\n",
       "    <tr>\n",
       "      <th>129</th>\n",
       "      <td>Amy (2015)</td>\n",
       "      <td>0.960469</td>\n",
       "    </tr>\n",
       "  </tbody>\n",
       "</table>\n",
       "</div>"
      ],
      "text/plain": [
       "                           FILM  favoritas\n",
       "140           Inside Out (2015)   0.626498\n",
       "42            About Elly (2015)   0.680074\n",
       "143  Two Days, One Night (2014)   0.813941\n",
       "88    Mad Max: Fury Road (2015)   0.851469\n",
       "129                  Amy (2015)   0.960469"
      ]
     },
     "execution_count": 30,
     "metadata": {},
     "output_type": "execute_result"
    }
   ],
   "source": [
    "df[['FILM', 'favoritas']].sort_values(by=\"favoritas\")[:5]"
   ]
  },
  {
   "cell_type": "markdown",
   "metadata": {},
   "source": [
    "La peor:\n",
    "![](https://m.media-amazon.com/images/M/MV5BMTkwMjkxNDQ1MV5BMl5BanBnXkFtZTgwNDQwODIxNTE@._V1_UX182_CR0,0,182,268_AL_.jpg)\n",
    "\n",
    "La más palomera:\n",
    "![](https://m.media-amazon.com/images/M/MV5BMTU0MTQzNzAxMl5BMl5BanBnXkFtZTgwNjg4MjcxNjE@._V1_UX182_CR0,0,182,268_AL_.jpg)\n",
    "\n",
    "La mas snob:\n",
    "![](https://m.media-amazon.com/images/M/MV5BNDUyMzU5MTk5MF5BMl5BanBnXkFtZTgwNjcxNDQxNTE@._V1_UX182_CR0,0,182,268_AL_.jpg)\n",
    "\n",
    "La Mejor:\n",
    "![Inside Out](https://m.media-amazon.com/images/M/MV5BOTgxMDQwMDk0OF5BMl5BanBnXkFtZTgwNjU5OTg2NDE@._V1_UX182_CR0,0,182,268_AL_.jpg)\n"
   ]
  },
  {
   "cell_type": "code",
   "execution_count": null,
   "metadata": {},
   "outputs": [],
   "source": []
  }
 ],
 "metadata": {
  "kernelspec": {
   "display_name": "Python 3",
   "language": "python",
   "name": "python3"
  },
  "language_info": {
   "codemirror_mode": {
    "name": "ipython",
    "version": 3
   },
   "file_extension": ".py",
   "mimetype": "text/x-python",
   "name": "python",
   "nbconvert_exporter": "python",
   "pygments_lexer": "ipython3",
   "version": "3.9.4"
  }
 },
 "nbformat": 4,
 "nbformat_minor": 2
}
