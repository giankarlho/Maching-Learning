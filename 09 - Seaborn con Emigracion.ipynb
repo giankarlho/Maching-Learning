{
 "cells": [
  {
   "cell_type": "code",
   "execution_count": 1,
   "metadata": {},
   "outputs": [],
   "source": [
    "import numpy as np\n",
    "import pandas as pd\n",
    "import matplotlib.pyplot as plt\n",
    "import seaborn as sns\n",
    "\n",
    "%matplotlib inline"
   ]
  },
  {
   "cell_type": "markdown",
   "metadata": {},
   "source": [
    "Cargamos el dataframe desde el archivo .csv"
   ]
  },
  {
   "cell_type": "code",
   "execution_count": 2,
   "metadata": {},
   "outputs": [
    {
     "data": {
      "text/html": [
       "<div>\n",
       "<style scoped>\n",
       "    .dataframe tbody tr th:only-of-type {\n",
       "        vertical-align: middle;\n",
       "    }\n",
       "\n",
       "    .dataframe tbody tr th {\n",
       "        vertical-align: top;\n",
       "    }\n",
       "\n",
       "    .dataframe thead th {\n",
       "        text-align: right;\n",
       "    }\n",
       "</style>\n",
       "<table border=\"1\" class=\"dataframe\">\n",
       "  <thead>\n",
       "    <tr style=\"text-align: right;\">\n",
       "      <th></th>\n",
       "      <th>Sexo</th>\n",
       "      <th>Mes</th>\n",
       "      <th>Año</th>\n",
       "      <th>Número emigrantes</th>\n",
       "    </tr>\n",
       "  </thead>\n",
       "  <tbody>\n",
       "    <tr>\n",
       "      <th>0</th>\n",
       "      <td>Hombre</td>\n",
       "      <td>Enero</td>\n",
       "      <td>2009</td>\n",
       "      <td>1716</td>\n",
       "    </tr>\n",
       "    <tr>\n",
       "      <th>1</th>\n",
       "      <td>Hombre</td>\n",
       "      <td>Febrero</td>\n",
       "      <td>2009</td>\n",
       "      <td>1950</td>\n",
       "    </tr>\n",
       "    <tr>\n",
       "      <th>2</th>\n",
       "      <td>Hombre</td>\n",
       "      <td>Marzo</td>\n",
       "      <td>2009</td>\n",
       "      <td>2515</td>\n",
       "    </tr>\n",
       "    <tr>\n",
       "      <th>3</th>\n",
       "      <td>Hombre</td>\n",
       "      <td>Abril</td>\n",
       "      <td>2009</td>\n",
       "      <td>1996</td>\n",
       "    </tr>\n",
       "    <tr>\n",
       "      <th>4</th>\n",
       "      <td>Hombre</td>\n",
       "      <td>Mayo</td>\n",
       "      <td>2009</td>\n",
       "      <td>1911</td>\n",
       "    </tr>\n",
       "  </tbody>\n",
       "</table>\n",
       "</div>"
      ],
      "text/plain": [
       "     Sexo      Mes   Año  Número emigrantes\n",
       "0  Hombre    Enero  2009               1716\n",
       "1  Hombre  Febrero  2009               1950\n",
       "2  Hombre    Marzo  2009               2515\n",
       "3  Hombre    Abril  2009               1996\n",
       "4  Hombre     Mayo  2009               1911"
      ]
     },
     "execution_count": 2,
     "metadata": {},
     "output_type": "execute_result"
    }
   ],
   "source": [
    "df = pd.read_csv('datasets\\\\07-emigracion.csv')\n",
    "df.head()"
   ]
  },
  {
   "cell_type": "markdown",
   "metadata": {},
   "source": [
    "Dado que las fechas están separadas en dos columnas vamos a convertir los nombres de los meses al número que les corresponde, para esto vamos a usar un diccionario y una función lambda para hacerlos fecha"
   ]
  },
  {
   "cell_type": "code",
   "execution_count": null,
   "metadata": {},
   "outputs": [],
   "source": [
    "meses = {'Enero'     : 1, 'Febrero':  2, 'Marzo'    :  3, 'Abril'    :  4,\n",
    "         'Mayo'      : 5, 'Junio'  :  6, 'Julio'    :  7, 'Agosto'   :  8,\n",
    "         'Septiembre': 9, 'Octubre': 10, 'Noviembre': 11, 'Diciembre': 12\n",
    "        }"
   ]
  },
  {
   "cell_type": "code",
   "execution_count": null,
   "metadata": {},
   "outputs": [],
   "source": [
    "df['fecha'] = df.apply(lambda x: pd.to_datetime('{}-{:02d}-01'.format(x.Año, meses[x.Mes])), axis=1)\n",
    "df.head()"
   ]
  },
  {
   "cell_type": "markdown",
   "metadata": {},
   "source": [
    "No vamos a usar las columnas de mes y año, así que las podemos eliminar"
   ]
  },
  {
   "cell_type": "code",
   "execution_count": null,
   "metadata": {},
   "outputs": [],
   "source": [
    "df.drop(['Mes', 'Año'], axis=1, inplace=True)"
   ]
  },
  {
   "cell_type": "markdown",
   "metadata": {},
   "source": [
    "Cambiamos el nombre de las columnas para que sea más fácil usarlas"
   ]
  },
  {
   "cell_type": "code",
   "execution_count": null,
   "metadata": {},
   "outputs": [],
   "source": [
    "df.columns = ['sexo', 'n', 'fecha']\n",
    "df.head()"
   ]
  },
  {
   "cell_type": "markdown",
   "metadata": {},
   "source": [
    "Como vamos a hacer uso de los hombres y mujeres por separado, vamos a crear dos dataframes, uno para cada uno, a partir de la condición de su sexo"
   ]
  },
  {
   "cell_type": "code",
   "execution_count": null,
   "metadata": {},
   "outputs": [],
   "source": [
    "hom = df[df.sexo == 'Hombre']\n",
    "muj = df[df.sexo == 'Mujer']"
   ]
  },
  {
   "cell_type": "code",
   "execution_count": null,
   "metadata": {},
   "outputs": [],
   "source": [
    "plt.figure(figsize=(12, 9))\n",
    "plt.style.use('bmh')\n",
    "\n",
    "plt.plot(hom.fecha, hom.n, 'b', label='hombres')\n",
    "plt.plot(muj.fecha, muj.n, 'r', label='mujeres')\n",
    "plt.xticks(rotation=90)\n",
    "\n",
    "plt.legend(loc='best')\n",
    "plt.ylabel('# de Personas')\n",
    "plt.ylabel('Fecha')\n",
    "plt.title('Personas migrantes en España')"
   ]
  },
  {
   "cell_type": "markdown",
   "metadata": {},
   "source": [
    "## Regresiones (líneas de tendencia)\n",
    "\n",
    "No existe una forma directa de pintar las líneas de tendencia, por lo que tenemos que calcular el valor de la propia línea\n",
    "\n",
    "Y nos vamos a encontrar con un problema... La función de numpy para ajustar (regresiones lineales o polinomiales) no soporta variables del tipo `timestamp`"
   ]
  },
  {
   "cell_type": "code",
   "execution_count": null,
   "metadata": {},
   "outputs": [],
   "source": [
    "plt.figure(figsize=(12, 9))\n",
    "plt.style.use('bmh')\n",
    "\n",
    "plt.plot(hom.fecha, hom.n, 'b', label='hombres')\n",
    "plt.plot(muj.fecha, muj.n, 'r', label='mujeres')\n",
    "plt.xticks(rotation=90)\n",
    "\n",
    "# Regresión lineal para los hombres\n",
    "z = np.polyfit(hom.fecha, hom.n, 1)\n",
    "p = np.poly1d(z)\n",
    "plt.plot(hom.fecha, p(hom.fecha), c=\"b\", ls=':')\n",
    "\n",
    "plt.legend(loc='best')\n",
    "plt.ylabel('# de Personas')\n",
    "plt.ylabel('Fecha')\n",
    "plt.title('Personas migrantes en España')"
   ]
  },
  {
   "cell_type": "markdown",
   "metadata": {},
   "source": [
    "Por lo que tenemos que crear nuevos valores para las X\n",
    "\n",
    "La siguiente instrucción creará un rango de 0 hasta el número de fechas que haya para los hombres (y las mujeres)"
   ]
  },
  {
   "cell_type": "code",
   "execution_count": null,
   "metadata": {},
   "outputs": [],
   "source": [
    "x = range(0, len(hom))"
   ]
  },
  {
   "cell_type": "code",
   "execution_count": null,
   "metadata": {},
   "outputs": [],
   "source": [
    "x = range(0, len(hom.fecha))\n",
    "\n",
    "plt.figure(figsize=(12, 9))\n",
    "plt.style.use('bmh')\n",
    "\n",
    "plt.plot(x, hom.n, 'b', label='hombres')\n",
    "plt.plot(x, muj.n, 'r', label='mujeres')"
   ]
  },
  {
   "cell_type": "markdown",
   "metadata": {},
   "source": [
    "Ahora tenemos el problema de que en el eje de las X no aparecen las fechas, sino los valores del rango, vamos a añadir las etiquetas a cada valor de las X con `plt.ticks()`"
   ]
  },
  {
   "cell_type": "code",
   "execution_count": null,
   "metadata": {
    "scrolled": false
   },
   "outputs": [],
   "source": [
    "x = range(0, len(hom.fecha))\n",
    "\n",
    "plt.figure(figsize=(12, 9))\n",
    "plt.style.use('bmh')\n",
    "\n",
    "plt.plot(x, hom.n, 'b', label='hombres')\n",
    "plt.plot(x, muj.n, 'r', label='mujeres')\n",
    "\n",
    "# Los xtickers (xt), van a ir desde cero, hasta el número de renglones que haya en hom, en\n",
    "# intervalos de 6 (seis meses)\n",
    "#\n",
    "xt = hom.fecha[range(0, len(hom), 6)]\n",
    "\n",
    "# Con xticks() indicamos cuáles son las etiquetas que se van a poner, primero decimos donde\n",
    "# y después decimos qué\n",
    "#\n",
    "# El apply lo utilizamos para que solo se vea la fecha sin la hora, que es el default para\n",
    "# este tipo de variables\n",
    "#\n",
    "plt.xticks(range(0, len(hom.fecha), 6), \n",
    "           xt.apply(lambda x: x.strftime('%Y-%m-%d')), \n",
    "           rotation=90)\n",
    "\n",
    "# Finalmente calculamos las regresiones lineales usando la función polyfit() de Numpy\n",
    "# El primer parámetro es el valor de las X (el rango que declaramos)\n",
    "# El segundo es el valor de la variable dependiente (el número de personas que migraron\n",
    "#    por mes)\n",
    "# El tercero es el grado de la función 1 es lineal, 2 cuadrática, 3 cúbica, etc.\n",
    "#\n",
    "z = np.polyfit(x, hom.n, 1)\n",
    "p = np.poly1d(z)\n",
    "plt.plot(x, p(x), c=\"b\", ls=':')\n",
    "\n",
    "z = np.polyfit(x, muj.n, 1)\n",
    "p = np.poly1d(z)\n",
    "plt.plot(x, p(x), c=\"r\", ls=':')\n",
    "\n",
    "plt.legend(loc='best')\n",
    "plt.ylabel('# de Personas')\n",
    "plt.ylabel('Fecha')\n",
    "plt.title('Personas migrantes en España')"
   ]
  },
  {
   "cell_type": "markdown",
   "metadata": {},
   "source": [
    "Una vez que vemos las dos regresiones lineales, vemos como el ritmo de migración de las mujeres es mayor que el de los hombres, y de hecho se cruza alrededor de enero de 2012, quizás influenciado porque en 2011 hubo más mujeres migrando y fue el año en que más migración hubo.\n",
    "\n",
    "A continuación, se presenta la misma gráfica, pero con **seaborn**, para obtener una gráfica más agradable, sin embargo, las librerías de Seaborn tienen el mismo problema que las de matplotlib, que es que no existe una forma de obtener una regresión lineal de forma automática, y los métodos de Seaborn requieren un tratamiento similar a lo que se hizo arriba para matplotlib, sin embargo, se puede mezclar una y otra librería, por lo que, la gráfica principal será con Seaborn y las líneas de regresión con matplotlib"
   ]
  },
  {
   "cell_type": "code",
   "execution_count": null,
   "metadata": {
    "scrolled": false
   },
   "outputs": [],
   "source": [
    "x = range(0, len(hom.fecha))\n",
    "\n",
    "plt.figure(figsize=(12, 9))\n",
    "chart = sns.lineplot(x='fecha', y='n', data=df, \n",
    "                     hue='sexo', markers=True, \n",
    "                     style='sexo', dashes=False)\n",
    "chart.set(title='Personas Migrantes', ylabel='# Personas', xlabel=\"Fecha\")\n",
    "\n",
    "\n",
    "# Regresión lineal para los hombres\n",
    "z = np.polyfit(x, hom.n, 1)\n",
    "p = np.poly1d(z)\n",
    "plt.plot(hom.fecha, p(x), c=\"b\", ls=\":\")\n",
    "\n",
    "z = np.polyfit(x, muj.n, 1)\n",
    "p = np.poly1d(z)\n",
    "plt.plot(hom.fecha, p(x), c=\"r\", ls=':')\n"
   ]
  },
  {
   "cell_type": "markdown",
   "metadata": {},
   "source": [
    "### Una pirámide poblacional\n",
    "\n",
    "Esta es una gráfica que me gusta mucho para analizar dos variables, comunmente se usa como pirámide poblacional y es realmente fácil de hacer, cuando se conoce el truco.\n",
    "\n",
    "En realidad se trata de dos barras, pero en una, los valores se han hecho negativos, para que se pinten del lado izquierdo del eje central y los otros positivos, para que estén del lado derecho"
   ]
  },
  {
   "cell_type": "code",
   "execution_count": null,
   "metadata": {},
   "outputs": [],
   "source": [
    "plt.figure(figsize=(12,10))\n",
    "plt.style.use('bmh')\n",
    "\n",
    "# La primera, la barra de los hombres, a la derecha, es una barra horizontal normal\n",
    "#\n",
    "plt.barh(hom.fecha, hom.n, color='teal', label='Hombre', height=25)\n",
    "\n",
    "# La segunda es igual que la primera, pero se multiplica por -1 para que caigan los\n",
    "# valores del lado izquierdo\n",
    "#\n",
    "plt.barh(muj.fecha, muj.n * -1, color='pink', label=\"Mujer\", height=25)\n",
    "\n",
    "# Con esta instrucción, ponemos los títulos en el eje de las x, el primer parámetro\n",
    "# dice dónde queremos poner las etiquetas y el segundo dice las etiquetas que vamos\n",
    "# a poner, así \"engañamos\" a quien la ve, poniendo solo números positivos\n",
    "#\n",
    "plt.xticks([-4000, -3000, -2000, -1000, -500, 0, 500, 1000, 2000, 3000, 4000], \n",
    "           [4000, 3000, 2000, 1000, 500, 0, -500, 1000, 2000, 3000, 4000], rotation=90)\n",
    "\n",
    "# Para tener simetría, fijamos los límites apenas por fuera del rango de los datos\n",
    "#\n",
    "plt.xlim(-4500, 4500)\n",
    "\n",
    "plt.legend(loc='best')\n",
    "plt.title('Migración por Género')\n",
    "plt.xlabel('# de Personas')\n",
    "plt.ylabel('Fecha')"
   ]
  },
  {
   "cell_type": "markdown",
   "metadata": {},
   "source": [
    "### Por semestre\n",
    "\n",
    "Vamos a repetir la gráfica superior, pero ahora, en vez de dibujar cada mes, lo haremos con cada semestre\n",
    "\n",
    "Una forma sencilla es añadir una columna al dataframe principal que nos indique en qué semestre está la observación\n",
    "\n",
    "[Documentación de Pandas](https://pandas.pydata.org/pandas-docs/stable/reference/api/pandas.Series.dt.month.html)"
   ]
  },
  {
   "cell_type": "code",
   "execution_count": null,
   "metadata": {},
   "outputs": [],
   "source": [
    "df['semestre'] = (df['fecha'].dt.month-1) // 6\n",
    "df.head(15)"
   ]
  },
  {
   "cell_type": "markdown",
   "metadata": {},
   "source": [
    "Ahora que tenemos los semestres, podemos hacer agrupaciones usando la función `group_by()`"
   ]
  },
  {
   "cell_type": "code",
   "execution_count": null,
   "metadata": {},
   "outputs": [],
   "source": [
    "df.groupby([\"semestre\", \"sexo\"])[\"n\"].sum()"
   ]
  },
  {
   "cell_type": "markdown",
   "metadata": {},
   "source": [
    "Ya vimos los datos agrupados por semestre, pero omitimos el año 🤦‍♂️\n",
    "\n",
    "Fácilmente lo podemos añadir a otra columna, obteniendo el año de la fecha y juntándolo con el semestre en un string"
   ]
  },
  {
   "cell_type": "code",
   "execution_count": null,
   "metadata": {},
   "outputs": [],
   "source": [
    "df['anosem'] = df.apply(lambda x: '{}-{}'.format(x.fecha.year, x.semestre), axis=1)\n",
    "df.head(15)"
   ]
  },
  {
   "cell_type": "code",
   "execution_count": null,
   "metadata": {},
   "outputs": [],
   "source": [
    "df.groupby([\"anosem\", \"sexo\"])[\"n\"].sum()"
   ]
  },
  {
   "cell_type": "markdown",
   "metadata": {},
   "source": [
    "Con este nuevo dataframe, podemos hacer la gráfica que buscábamos... ¿cuál es la migración por sexo por cada semestre?\n",
    "\n",
    "Por comodidad, voy a crear dos nuevos dataframes, uno por sexo\n",
    "\n",
    "Pero antes de hacer eso, es necesario crear un dataframe a partir de las agrupaciones"
   ]
  },
  {
   "cell_type": "code",
   "execution_count": null,
   "metadata": {},
   "outputs": [],
   "source": [
    "sems = df.groupby([\"anosem\", \"sexo\"])[\"n\"].sum().to_frame().reset_index()\n",
    "sems"
   ]
  },
  {
   "cell_type": "code",
   "execution_count": null,
   "metadata": {},
   "outputs": [],
   "source": [
    "homs = sems[sems.sexo == 'Hombre']\n",
    "mujs = sems[sems.sexo == 'Mujer']\n",
    "homs.head()"
   ]
  },
  {
   "cell_type": "markdown",
   "metadata": {},
   "source": [
    "Para que se despliegue bien las gráficas, requerimos saber los valores máximos de cada caso, para ponerlo como los límites de la gráfica"
   ]
  },
  {
   "cell_type": "code",
   "execution_count": null,
   "metadata": {},
   "outputs": [],
   "source": [
    "print('Máxima migración para los hombres: {:,}'.format(homs.n.max()))\n",
    "print('Máxima migración para las mujeres: {:,}'.format(mujs.n.max()))"
   ]
  },
  {
   "cell_type": "code",
   "execution_count": null,
   "metadata": {},
   "outputs": [],
   "source": [
    "plt.figure(figsize=(12,10))\n",
    "plt.style.use('bmh')\n",
    "\n",
    "# La primera, la barra de los hombres, a la derecha, es una barra horizontal normal\n",
    "#\n",
    "plt.barh(homs.anosem, homs.n, color='teal', label='Hombre')\n",
    "\n",
    "# La segunda es igual que la primera, pero se multiplica por -1 para que caigan los\n",
    "# valores del lado izquierdo\n",
    "#\n",
    "plt.barh(mujs.anosem, mujs.n * -1, color='pink', label=\"Mujer\")\n",
    "\n",
    "# Con esta instrucción, ponemos los títulos en el eje de las x, el primer parámetro\n",
    "# dice dónde queremos poner las etiquetas y el segundo dice las etiquetas que vamos\n",
    "# a poner, así \"engañamos\" a quien la ve, poniendo solo números positivos\n",
    "#\n",
    "plt.xticks([  -20000,    -10000,    -5000,   0,    5000,    10000,    20000], \n",
    "           ['20,000',  '10,000',  '5,000', '0', '5,000', '10,000', '20,000'], rotation=90)\n",
    "\n",
    "# Para tener simetría, fijamos los límites apenas por fuera del rango de los datos\n",
    "#\n",
    "plt.xlim(-21500, 21500)\n",
    "\n",
    "plt.legend(loc='best')\n",
    "plt.title('Migración por Género')\n",
    "plt.xlabel('# de Personas')\n",
    "plt.ylabel('Fecha')"
   ]
  },
  {
   "cell_type": "code",
   "execution_count": null,
   "metadata": {},
   "outputs": [],
   "source": [
    "x = range(0, len(homs))\n",
    "\n",
    "plt.figure(figsize=(12, 9))\n",
    "chart = sns.lineplot(x='anosem', y='n', data=sems, \n",
    "                     hue='sexo', markers=True, \n",
    "                     style='sexo', dashes=False)\n",
    "chart.set(title='Personas Migrantes', ylabel='# Personas', xlabel=\"Fecha\")\n",
    "\n",
    "\n",
    "# Regresión lineal para los hombres\n",
    "z = np.polyfit(x, homs.n, 1)\n",
    "p = np.poly1d(z)\n",
    "plt.plot(homs.anosem, p(x), c=\"b\", ls=\":\")\n",
    "\n",
    "z = np.polyfit(x, mujs.n, 1)\n",
    "p = np.poly1d(z)\n",
    "plt.plot(homs.anosem, p(x), c=\"r\", ls=':')"
   ]
  },
  {
   "cell_type": "code",
   "execution_count": null,
   "metadata": {},
   "outputs": [],
   "source": []
  }
 ],
 "metadata": {
  "kernelspec": {
   "display_name": "Python 3",
   "language": "python",
   "name": "python3"
  },
  "language_info": {
   "codemirror_mode": {
    "name": "ipython",
    "version": 3
   },
   "file_extension": ".py",
   "mimetype": "text/x-python",
   "name": "python",
   "nbconvert_exporter": "python",
   "pygments_lexer": "ipython3",
   "version": "3.9.4"
  }
 },
 "nbformat": 4,
 "nbformat_minor": 4
}
